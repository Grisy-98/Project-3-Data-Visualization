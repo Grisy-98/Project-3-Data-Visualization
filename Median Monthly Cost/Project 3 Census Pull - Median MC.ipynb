{
 "cells": [
  {
   "cell_type": "code",
   "execution_count": 4,
   "metadata": {},
   "outputs": [],
   "source": [
    "# Dependencies and Setup\n",
    "import matplotlib.pyplot as plt\n",
    "import pandas as pd\n",
    "import numpy as np\n",
    "import requests\n",
    "import time\n",
    "from scipy.stats import linregress\n",
    "import json \n",
    "#Census API (just in case)"
   ]
  },
  {
   "cell_type": "code",
   "execution_count": 5,
   "metadata": {},
   "outputs": [],
   "source": [
    "geocodes = \"860Z200US76501,860Z200US76502,860Z200US76504,860Z200US76511,860Z200US76513,860Z200US76518,860Z200US76519,860Z200US76520,860Z200US76522,860Z200US76524,860Z200US76525,860Z200US76527,860Z200US76528,860Z200US76530,860Z200US76534,860Z200US76537,860Z200US76538,860Z200US76539,860Z200US76541,860Z200US76542,860Z200US76543,860Z200US76544,860Z200US76548,860Z200US76549,860Z200US76550,860Z200US76554,860Z200US76556,860Z200US76557,860Z200US76559,860Z200US76561,860Z200US76566,860Z200US76567,860Z200US76569,860Z200US76570,860Z200US76571,860Z200US76574,860Z200US76577,860Z200US76578,860Z200US76579,860Z200US76624,860Z200US76630,860Z200US76632,860Z200US76633,860Z200US76638,860Z200US76640,860Z200US76643,860Z200US76655,860Z200US76656,860Z200US76657,860Z200US76661,860Z200US76664,860Z200US76680,860Z200US76682,860Z200US76685,860Z200US76691,860Z200US76701,860Z200US76704,860Z200US76705,860Z200US76706,860Z200US76707,860Z200US76708,860Z200US76710,860Z200US76711,860Z200US76712,860Z200US76798,860Z200US76831,860Z200US76853,860Z200US76885,860Z200US77853,860Z200US78602,860Z200US78605,860Z200US78606,860Z200US78607,860Z200US78608,860Z200US78609,860Z200US78610,860Z200US78611,860Z200US78612,860Z200US78613,860Z200US78615,860Z200US78617,860Z200US78618,860Z200US78619,860Z200US78620,860Z200US78621,860Z200US78624,860Z200US78626,860Z200US78628,860Z200US78631,860Z200US78633,860Z200US78634,860Z200US78635,860Z200US78636,860Z200US78639,860Z200US78640,860Z200US78641,860Z200US78642,860Z200US78643,860Z200US78645,860Z200US78650,860Z200US78652,860Z200US78653,860Z200US78654,860Z200US78657,860Z200US78659,860Z200US78660,860Z200US78662,860Z200US78663,860Z200US78664,860Z200US78665,860Z200US78666,860Z200US78669,860Z200US78671,860Z200US78672,860Z200US78675,860Z200US78676,860Z200US78681,860Z200US78701,860Z200US78702,860Z200US78703,860Z200US78704,860Z200US78705,860Z200US78712,860Z200US78717,860Z200US78719,860Z200US78721,860Z200US78722,860Z200US78723,860Z200US78724,860Z200US78725,860Z200US78726,860Z200US78727,860Z200US78729,860Z200US78730,860Z200US78731,860Z200US78732,860Z200US78733,860Z200US78734,860Z200US78735,860Z200US78736,860Z200US78737,860Z200US78738,860Z200US78739,860Z200US78741,860Z200US78742,860Z200US78744,860Z200US78745,860Z200US78746,860Z200US78747,860Z200US78748,860Z200US78749,860Z200US78750,860Z200US78751,860Z200US78752,860Z200US78753,860Z200US78754,860Z200US78756,860Z200US78757,860Z200US78758,860Z200US78759,860Z200US78942,860Z200US78946,860Z200US78947,860Z200US78948,860Z200US78953\"\n"
   ]
  },
  {
   "cell_type": "code",
   "execution_count": 6,
   "metadata": {},
   "outputs": [
    {
     "name": "stdout",
     "output_type": "stream",
     "text": [
      "[['B25088_001E', 'B25088_001EA', 'B25088_001M', 'B25088_001MA', 'B25088_002E', 'B25088_002EA', 'B25088_002M', 'B25088_002MA', 'B25088_003E', 'B25088_003EA', 'B25088_003M', 'B25088_003MA', 'GEO_ID', 'NAME', 'ucgid'], ['882', None, '107', None, '1320', None, '118', None, '510', None, '47', None, '860Z200US76501', 'ZCTA5 76501', '860Z200US76501'], ['1315', None, '61', None, '1646', None, '71', None, '636', None, '25', None, '860Z200US76502', 'ZCTA5 76502', '860Z200US76502'], ['955', None, '100', None, '1313', None, '76', None, '490', None, '32', None, '860Z200US76504', 'ZCTA5 76504', '860Z200US76504'], ['837', None, '178', None, '1260', None, '149', None, '555', None, '176', None, '860Z200US76511', 'ZCTA5 76511', '860Z200US76511'], ['1274', None, '108', None, '1788', None, '126', None, '608', None, '50', None, '860Z200US76513', 'ZCTA5 76513', '860Z200US76513'], ['544', None, '233', None, '1453', None, '227', None, '434', None, '86', None, '860Z200US76518', 'ZCTA5 76518', '860Z200US76518'], ['-666666666', '-', '-222222222', '**', '2486', None, '1443', None, '540', None, '70', None, '860Z200US76519', 'ZCTA5 76519', '860Z200US76519'], ['725', None, '53', None, '1200', None, '92', None, '494', None, '66', None, '860Z200US76520', 'ZCTA5 76520', '860Z200US76520'], ['1079', None, '50', None, '1389', None, '56', None, '543', None, '24', None, '860Z200US76522', 'ZCTA5 76522', '860Z200US76522'], ['1104', None, '306', None, '1478', None, '138', None, '527', None, '135', None, '860Z200US76524', 'ZCTA5 76524', '860Z200US76524'], ['621', None, '188', None, '1236', None, '329', None, '449', None, '95', None, '860Z200US76525', 'ZCTA5 76525', '860Z200US76525'], ['1440', None, '518', None, '2043', None, '238', None, '656', None, '48', None, '860Z200US76527', 'ZCTA5 76527', '860Z200US76527'], ['741', None, '78', None, '1421', None, '81', None, '472', None, '42', None, '860Z200US76528', 'ZCTA5 76528', '860Z200US76528'], ['981', None, '344', None, '1629', None, '106', None, '588', None, '90', None, '860Z200US76530', 'ZCTA5 76530', '860Z200US76530'], ['1155', None, '109', None, '1457', None, '244', None, '577', None, '82', None, '860Z200US76534', 'ZCTA5 76534', '860Z200US76534'], ['1781', None, '81', None, '1867', None, '61', None, '627', None, '61', None, '860Z200US76537', 'ZCTA5 76537', '860Z200US76537'], ['805', None, '243', None, '1220', None, '577', None, '535', None, '62', None, '860Z200US76538', 'ZCTA5 76538', '860Z200US76538'], ['1321', None, '167', None, '1642', None, '86', None, '619', None, '69', None, '860Z200US76539', 'ZCTA5 76539', '860Z200US76539'], ['567', None, '189', None, '1092', None, '88', None, '405', None, '37', None, '860Z200US76541', 'ZCTA5 76541', '860Z200US76541'], ['1394', None, '59', None, '1590', None, '51', None, '569', None, '43', None, '860Z200US76542', 'ZCTA5 76542', '860Z200US76542'], ['841', None, '157', None, '1214', None, '60', None, '460', None, '24', None, '860Z200US76543', 'ZCTA5 76543', '860Z200US76543'], ['-666666666', '-', '-222222222', '**', '-666666666', '-', '-222222222', '**', '-666666666', '-', '-222222222', '**', '860Z200US76544', 'ZCTA5 76544', '860Z200US76544'], ['1624', None, '92', None, '1828', None, '88', None, '683', None, '66', None, '860Z200US76548', 'ZCTA5 76548', '860Z200US76548'], ['1220', None, '67', None, '1482', None, '83', None, '516', None, '47', None, '860Z200US76549', 'ZCTA5 76549', '860Z200US76549'], ['968', None, '59', None, '1497', None, '273', None, '698', None, '68', None, '860Z200US76550', 'ZCTA5 76550', '860Z200US76550'], ['940', None, '160', None, '1239', None, '229', None, '514', None, '66', None, '860Z200US76554', 'ZCTA5 76554', '860Z200US76554'], ['497', None, '127', None, '1483', None, '187', None, '361', None, '51', None, '860Z200US76556', 'ZCTA5 76556', '860Z200US76556'], ['786', None, '384', None, '1705', None, '346', None, '387', None, '72', None, '860Z200US76557', 'ZCTA5 76557', '860Z200US76557'], ['1399', None, '94', None, '1499', None, '293', None, '344', None, '115', None, '860Z200US76559', 'ZCTA5 76559', '860Z200US76559'], ['874', None, '155', None, '1257', None, '177', None, '566', None, '63', None, '860Z200US76561', 'ZCTA5 76561', '860Z200US76561'], ['665', None, '420', None, '2553', None, '898', None, '567', None, '169', None, '860Z200US76566', 'ZCTA5 76566', '860Z200US76566'], ['784', None, '172', None, '1516', None, '233', None, '530', None, '82', None, '860Z200US76567', 'ZCTA5 76567', '860Z200US76567'], ['757', None, '132', None, '1223', None, '203', None, '389', None, '82', None, '860Z200US76569', 'ZCTA5 76569', '860Z200US76569'], ['531', None, '207', None, '1769', None, '332', None, '371', None, '139', None, '860Z200US76570', 'ZCTA5 76570', '860Z200US76570'], ['1326', None, '300', None, '2154', None, '171', None, '769', None, '62', None, '860Z200US76571', 'ZCTA5 76571', '860Z200US76571'], ['1257', None, '106', None, '1699', None, '63', None, '681', None, '54', None, '860Z200US76574', 'ZCTA5 76574', '860Z200US76574'], ['834', None, '102', None, '1279', None, '203', None, '401', None, '68', None, '860Z200US76577', 'ZCTA5 76577', '860Z200US76577'], ['1048', None, '466', None, '1602', None, '252', None, '690', None, '104', None, '860Z200US76578', 'ZCTA5 76578', '860Z200US76578'], ['1126', None, '143', None, '1473', None, '188', None, '593', None, '149', None, '860Z200US76579', 'ZCTA5 76579', '860Z200US76579'], ['709', None, '229', None, '1421', None, '298', None, '524', None, '44', None, '860Z200US76624', 'ZCTA5 76624', '860Z200US76624'], ['1305', None, '1089', None, '1792', None, '198', None, '461', None, '44', None, '860Z200US76630', 'ZCTA5 76630', '860Z200US76630'], ['509', None, '141', None, '1556', None, '327', None, '397', None, '89', None, '860Z200US76632', 'ZCTA5 76632', '860Z200US76632'], ['1182', None, '218', None, '2002', None, '667', None, '697', None, '90', None, '860Z200US76633', 'ZCTA5 76633', '860Z200US76633'], ['1409', None, '282', None, '2438', None, '393', None, '819', None, '151', None, '860Z200US76638', 'ZCTA5 76638', '860Z200US76638'], ['870', None, '291', None, '1183', None, '269', None, '449', None, '145', None, '860Z200US76640', 'ZCTA5 76640', '860Z200US76640'], ['1236', None, '137', None, '1671', None, '81', None, '691', None, '58', None, '860Z200US76643', 'ZCTA5 76643', '860Z200US76643'], ['1541', None, '117', None, '1868', None, '101', None, '733', None, '36', None, '860Z200US76655', 'ZCTA5 76655', '860Z200US76655'], ['763', None, '259', None, '1390', None, '133', None, '373', None, '57', None, '860Z200US76656', 'ZCTA5 76656', '860Z200US76656'], ['1547', None, '133', None, '2345', None, '528', None, '832', None, '248', None, '860Z200US76657', 'ZCTA5 76657', '860Z200US76657'], ['497', None, '68', None, '938', None, '65', None, '436', None, '22', None, '860Z200US76661', 'ZCTA5 76661', '860Z200US76661'], ['766', None, '154', None, '1356', None, '68', None, '557', None, '61', None, '860Z200US76664', 'ZCTA5 76664', '860Z200US76664'], ['-666666666', '-', '-222222222', '**', '-666666666', '-', '-222222222', '**', '338', None, '29', None, '860Z200US76680', 'ZCTA5 76680', '860Z200US76680'], ['734', None, '199', None, '1479', None, '164', None, '491', None, '80', None, '860Z200US76682', 'ZCTA5 76682', '860Z200US76682'], ['-666666666', '-', '-222222222', '**', '-666666666', '-', '-222222222', '**', '-666666666', '-', '-222222222', '**', '860Z200US76685', 'ZCTA5 76685', '860Z200US76685'], ['907', None, '131', None, '1919', None, '196', None, '566', None, '63', None, '860Z200US76691', 'ZCTA5 76691', '860Z200US76691'], ['705', None, '223', None, '-666666666', '-', '-222222222', '**', '578', None, '141', None, '860Z200US76701', 'ZCTA5 76701', '860Z200US76701'], ['736', None, '80', None, '1130', None, '105', None, '500', None, '77', None, '860Z200US76704', 'ZCTA5 76704', '860Z200US76704'], ['842', None, '72', None, '1250', None, '79', None, '528', None, '35', None, '860Z200US76705', 'ZCTA5 76705', '860Z200US76705'], ['851', None, '78', None, '1743', None, '108', None, '589', None, '43', None, '860Z200US76706', 'ZCTA5 76706', '860Z200US76706'], ['698', None, '85', None, '1092', None, '97', None, '494', None, '42', None, '860Z200US76707', 'ZCTA5 76707', '860Z200US76707'], ['1052', None, '124', None, '1599', None, '80', None, '593', None, '33', None, '860Z200US76708', 'ZCTA5 76708', '860Z200US76708'], ['1036', None, '152', None, '1638', None, '135', None, '673', None, '61', None, '860Z200US76710', 'ZCTA5 76710', '860Z200US76710'], ['609', None, '182', None, '1158', None, '112', None, '428', None, '36', None, '860Z200US76711', 'ZCTA5 76711', '860Z200US76711'], ['1539', None, '65', None, '1893', None, '77', None, '809', None, '52', None, '860Z200US76712', 'ZCTA5 76712', '860Z200US76712'], ['-666666666', '-', '-222222222', '**', '-666666666', '-', '-222222222', '**', '-666666666', '-', '-222222222', '**', '860Z200US76798', 'ZCTA5 76798', '860Z200US76798'], ['-666666666', '-', '-222222222', '**', '-666666666', '-', '-222222222', '**', '-666666666', '-', '-222222222', '**', '860Z200US76831', 'ZCTA5 76831', '860Z200US76831'], ['697', None, '70', None, '1467', None, '557', None, '543', None, '157', None, '860Z200US76853', 'ZCTA5 76853', '860Z200US76853'], ['-666666666', '-', '-222222222', '**', '-666666666', '-', '-222222222', '**', '-666666666', '-', '-222222222', '**', '860Z200US76885', 'ZCTA5 76885', '860Z200US76885'], ['578', None, '115', None, '1557', None, '559', None, '494', None, '69', None, '860Z200US77853', 'ZCTA5 77853', '860Z200US77853'], ['1253', None, '125', None, '1715', None, '106', None, '643', None, '62', None, '860Z200US78602', 'ZCTA5 78602', '860Z200US78602'], ['927', None, '438', None, '1950', None, '570', None, '345', None, '49', None, '860Z200US78605', 'ZCTA5 78605', '860Z200US78605'], ['1443', None, '310', None, '1865', None, '128', None, '638', None, '111', None, '860Z200US78606', 'ZCTA5 78606', '860Z200US78606'], ['-666666666', '-', '-222222222', '**', '-666666666', '-', '-222222222', '**', '519', None, '342', None, '860Z200US78607', 'ZCTA5 78607', '860Z200US78607'], ['-666666666', '-', '-222222222', '**', '-666666666', '-', '-222222222', '**', '603', None, '489', None, '860Z200US78608', 'ZCTA5 78608', '860Z200US78608'], ['778', None, '162', None, '1641', None, '226', None, '576', None, '112', None, '860Z200US78609', 'ZCTA5 78609', '860Z200US78609'], ['1876', None, '89', None, '2178', None, '81', None, '869', None, '127', None, '860Z200US78610', 'ZCTA5 78610', '860Z200US78610'], ['968', None, '139', None, '1831', None, '135', None, '614', None, '73', None, '860Z200US78611', 'ZCTA5 78611', '860Z200US78611'], ['1164', None, '102', None, '1756', None, '225', None, '608', None, '92', None, '860Z200US78612', 'ZCTA5 78612', '860Z200US78612'], ['2122', None, '66', None, '2451', None, '62', None, '927', None, '47', None, '860Z200US78613', 'ZCTA5 78613', '860Z200US78613'], ['1354', None, '256', None, '1653', None, '319', None, '812', None, '187', None, '860Z200US78615', 'ZCTA5 78615', '860Z200US78615'], ['1045', None, '108', None, '1610', None, '90', None, '618', None, '184', None, '860Z200US78617', 'ZCTA5 78617', '860Z200US78617'], ['600', None, '339', None, '1663', None, '353', None, '552', None, '76', None, '860Z200US78618', 'ZCTA5 78618', '860Z200US78618'], ['2141', None, '729', None, '3208', None, '147', None, '997', None, '405', None, '860Z200US78619', 'ZCTA5 78619', '860Z200US78619'], ['2049', None, '188', None, '2703', None, '205', None, '1117', None, '88', None, '860Z200US78620', 'ZCTA5 78620', '860Z200US78620'], ['1237', None, '177', None, '1796', None, '99', None, '676', None, '77', None, '860Z200US78621', 'ZCTA5 78621', '860Z200US78621'], ['1022', None, '152', None, '1939', None, '161', None, '685', None, '62', None, '860Z200US78624', 'ZCTA5 78624', '860Z200US78624'], ['1736', None, '86', None, '1997', None, '81', None, '730', None, '53', None, '860Z200US78626', 'ZCTA5 78626', '860Z200US78626'], ['2086', None, '80', None, '2488', None, '112', None, '948', None, '69', None, '860Z200US78628', 'ZCTA5 78628', '860Z200US78628'], ['892', None, '389', None, '1773', None, '417', None, '470', None, '74', None, '860Z200US78631', 'ZCTA5 78631', '860Z200US78631'], ['1328', None, '92', None, '2217', None, '95', None, '868', None, '31', None, '860Z200US78633', 'ZCTA5 78633', '860Z200US78633'], ['1850', None, '57', None, '1971', None, '54', None, '814', None, '110', None, '860Z200US78634', 'ZCTA5 78634', '860Z200US78634'], ['-666666666', '-', '-222222222', '**', '-666666666', '-', '-222222222', '**', '-666666666', '-', '-222222222', '**', '860Z200US78635', 'ZCTA5 78635', '860Z200US78635'], ['915', None, '188', None, '1688', None, '224', None, '607', None, '180', None, '860Z200US78636', 'ZCTA5 78636', '860Z200US78636'], ['919', None, '124', None, '1341', None, '99', None, '614', None, '110', None, '860Z200US78639', 'ZCTA5 78639', '860Z200US78639'], ['1561', None, '61', None, '1824', None, '50', None, '694', None, '48', None, '860Z200US78640', 'ZCTA5 78640', '860Z200US78640'], ['2054', None, '78', None, '2392', None, '63', None, '907', None, '56', None, '860Z200US78641', 'ZCTA5 78641', '860Z200US78641'], ['2088', None, '139', None, '2549', None, '121', None, '882', None, '61', None, '860Z200US78642', 'ZCTA5 78642', '860Z200US78642'], ['918', None, '93', None, '1485', None, '289', None, '530', None, '80', None, '860Z200US78643', 'ZCTA5 78643', '860Z200US78643'], ['1574', None, '179', None, '2268', None, '205', None, '802', None, '107', None, '860Z200US78645', 'ZCTA5 78645', '860Z200US78645'], ['816', None, '85', None, '1219', None, '125', None, '669', None, '131', None, '860Z200US78650', 'ZCTA5 78650', '860Z200US78650'], ['1958', None, '517', None, '2421', None, '243', None, '629', None, '73', None, '860Z200US78652', 'ZCTA5 78652', '860Z200US78652'], ['1671', None, '61', None, '1837', None, '92', None, '691', None, '64', None, '860Z200US78653', 'ZCTA5 78653', '860Z200US78653'], ['1038', None, '130', None, '1787', None, '145', None, '665', None, '31', None, '860Z200US78654', 'ZCTA5 78654', '860Z200US78654'], ['1275', None, '173', None, '1886', None, '362', None, '808', None, '96', None, '860Z200US78657', 'ZCTA5 78657', '860Z200US78657'], ['880', None, '408', None, '1864', None, '222', None, '564', None, '53', None, '860Z200US78659', 'ZCTA5 78659', '860Z200US78659'], ['1904', None, '77', None, '2167', None, '71', None, '852', None, '70', None, '860Z200US78660', 'ZCTA5 78660', '860Z200US78660'], ['804', None, '454', None, '1648', None, '365', None, '-666666666', '-', '-222222222', '**', '860Z200US78662', 'ZCTA5 78662', '860Z200US78662'], ['-666666666', '-', '-222222222', '**', '1712', None, '840', None, '611', None, '152', None, '860Z200US78663', 'ZCTA5 78663', '860Z200US78663'], ['1695', None, '56', None, '1891', None, '66', None, '816', None, '50', None, '860Z200US78664', 'ZCTA5 78664', '860Z200US78664'], ['2176', None, '95', None, '2434', None, '89', None, '889', None, '55', None, '860Z200US78665', 'ZCTA5 78665', '860Z200US78665'], ['1236', None, '99', None, '1699', None, '73', None, '604', None, '50', None, '860Z200US78666', 'ZCTA5 78666', '860Z200US78666'], ['2136', None, '217', None, '2853', None, '200', None, '925', None, '188', None, '860Z200US78669', 'ZCTA5 78669', '860Z200US78669'], ['659', None, '369', None, '1439', None, '112', None, '486', None, '104', None, '860Z200US78671', 'ZCTA5 78671', '860Z200US78671'], ['452', None, '105', None, '1125', None, '148', None, '401', None, '147', None, '860Z200US78672', 'ZCTA5 78672', '860Z200US78672'], ['705', None, '313', None, '-666666666', '-', '-222222222', '**', '705', None, '306', None, '860Z200US78675', 'ZCTA5 78675', '860Z200US78675'], ['1490', None, '166', None, '2200', None, '152', None, '883', None, '127', None, '860Z200US78676', 'ZCTA5 78676', '860Z200US78676'], ['2035', None, '99', None, '2553', None, '90', None, '912', None, '50', None, '860Z200US78681', 'ZCTA5 78681', '860Z200US78681'], ['3276', None, '173', None, '3603', None, '265', None, '1501', '1,500+', '-333333333', '***', '860Z200US78701', 'ZCTA5 78701', '860Z200US78701'], ['2075', None, '212', None, '2724', None, '199', None, '961', None, '128', None, '860Z200US78702', 'ZCTA5 78702', '860Z200US78702'], ['3597', None, '338', None, '4001', '4,000+', '-333333333', '***', '1501', '1,500+', '-333333333', '***', '860Z200US78703', 'ZCTA5 78703', '860Z200US78703'], ['2469', None, '174', None, '3355', None, '119', None, '1387', None, '90', None, '860Z200US78704', 'ZCTA5 78704', '860Z200US78704'], ['1571', None, '461', None, '2192', None, '476', None, '1092', None, '295', None, '860Z200US78705', 'ZCTA5 78705', '860Z200US78705'], ['-666666666', '-', '-222222222', '**', '-666666666', '-', '-222222222', '**', '-666666666', '-', '-222222222', '**', '860Z200US78712', 'ZCTA5 78712', '860Z200US78712'], ['2682', None, '166', None, '3161', None, '120', None, '1157', None, '57', None, '860Z200US78717', 'ZCTA5 78717', '860Z200US78717'], ['678', None, '86', None, '1207', None, '635', None, '627', None, '77', None, '860Z200US78719', 'ZCTA5 78719', '860Z200US78719'], ['1757', None, '254', None, '2327', None, '186', None, '676', None, '117', None, '860Z200US78721', 'ZCTA5 78721', '860Z200US78721'], ['2556', None, '363', None, '3138', None, '110', None, '952', None, '244', None, '860Z200US78722', 'ZCTA5 78722', '860Z200US78722'], ['2035', None, '153', None, '2456', None, '109', None, '888', None, '72', None, '860Z200US78723', 'ZCTA5 78723', '860Z200US78723'], ['1143', None, '89', None, '1613', None, '134', None, '681', None, '90', None, '860Z200US78724', 'ZCTA5 78724', '860Z200US78724'], ['1514', None, '212', None, '1749', None, '191', None, '828', None, '326', None, '860Z200US78725', 'ZCTA5 78725', '860Z200US78725'], ['2896', None, '345', None, '3386', None, '241', None, '1166', None, '129', None, '860Z200US78726', 'ZCTA5 78726', '860Z200US78726'], ['1815', None, '101', None, '2280', None, '84', None, '894', None, '73', None, '860Z200US78727', 'ZCTA5 78727', '860Z200US78727'], ['1947', None, '136', None, '2215', None, '63', None, '836', None, '48', None, '860Z200US78729', 'ZCTA5 78729', '860Z200US78729'], ['3475', None, '407', None, '4001', '4,000+', '-333333333', '***', '1501', '1,500+', '-333333333', '***', '860Z200US78730', 'ZCTA5 78730', '860Z200US78730'], ['2447', None, '178', None, '3876', None, '240', None, '1282', None, '78', None, '860Z200US78731', 'ZCTA5 78731', '860Z200US78731'], ['3172', None, '385', None, '3676', None, '237', None, '1383', None, '139', None, '860Z200US78732', 'ZCTA5 78732', '860Z200US78732'], ['2943', None, '422', None, '3670', None, '397', None, '1497', None, '291', None, '860Z200US78733', 'ZCTA5 78733', '860Z200US78733'], ['2255', None, '172', None, '2878', None, '206', None, '1153', None, '74', None, '860Z200US78734', 'ZCTA5 78734', '860Z200US78734'], ['3056', None, '233', None, '3544', None, '321', None, '1266', None, '172', None, '860Z200US78735', 'ZCTA5 78735', '860Z200US78735'], ['1880', None, '228', None, '2637', None, '371', None, '780', None, '96', None, '860Z200US78736', 'ZCTA5 78736', '860Z200US78736'], ['2905', None, '191', None, '3363', None, '166', None, '1104', None, '75', None, '860Z200US78737', 'ZCTA5 78737', '860Z200US78737'], ['2951', None, '185', None, '3471', None, '228', None, '1451', None, '146', None, '860Z200US78738', 'ZCTA5 78738', '860Z200US78738'], ['2778', None, '155', None, '3282', None, '149', None, '1211', None, '59', None, '860Z200US78739', 'ZCTA5 78739', '860Z200US78739'], ['1397', None, '220', None, '2263', None, '177', None, '599', None, '118', None, '860Z200US78741', 'ZCTA5 78741', '860Z200US78741'], ['757', None, '339', None, '2118', None, '942', None, '720', None, '619', None, '860Z200US78742', 'ZCTA5 78742', '860Z200US78742'], ['1434', None, '130', None, '1712', None, '70', None, '616', None, '166', None, '860Z200US78744', 'ZCTA5 78744', '860Z200US78744'], ['1716', None, '73', None, '2097', None, '67', None, '763', None, '42', None, '860Z200US78745', 'ZCTA5 78745', '860Z200US78745'], ['3509', None, '223', None, '4001', '4,000+', '-333333333', '***', '1501', '1,500+', '-333333333', '***', '860Z200US78746', 'ZCTA5 78746', '860Z200US78746'], ['1517', None, '117', None, '1813', None, '164', None, '755', None, '96', None, '860Z200US78747', 'ZCTA5 78747', '860Z200US78747'], ['1905', None, '73', None, '2144', None, '73', None, '824', None, '55', None, '860Z200US78748', 'ZCTA5 78748', '860Z200US78748'], ['1926', None, '143', None, '2339', None, '116', None, '940', None, '89', None, '860Z200US78749', 'ZCTA5 78749', '860Z200US78749'], ['1897', None, '98', None, '2725', None, '177', None, '1208', None, '85', None, '860Z200US78750', 'ZCTA5 78750', '860Z200US78750'], ['2428', None, '279', None, '3323', None, '335', None, '1207', None, '175', None, '860Z200US78751', 'ZCTA5 78751', '860Z200US78751'], ['1502', None, '177', None, '2044', None, '391', None, '636', None, '47', None, '860Z200US78752', 'ZCTA5 78752', '860Z200US78752'], ['1505', None, '116', None, '1944', None, '119', None, '757', None, '164', None, '860Z200US78753', 'ZCTA5 78753', '860Z200US78753'], ['1872', None, '124', None, '2086', None, '89', None, '788', None, '102', None, '860Z200US78754', 'ZCTA5 78754', '860Z200US78754'], ['2391', None, '237', None, '3413', None, '403', None, '1442', None, '125', None, '860Z200US78756', 'ZCTA5 78756', '860Z200US78756'], ['2098', None, '276', None, '2915', None, '191', None, '993', None, '160', None, '860Z200US78757', 'ZCTA5 78757', '860Z200US78757'], ['1564', None, '127', None, '1955', None, '78', None, '738', None, '48', None, '860Z200US78758', 'ZCTA5 78758', '860Z200US78758'], ['2063', None, '140', None, '2837', None, '154', None, '1038', None, '63', None, '860Z200US78759', 'ZCTA5 78759', '860Z200US78759'], ['922', None, '224', None, '1768', None, '202', None, '484', None, '69', None, '860Z200US78942', 'ZCTA5 78942', '860Z200US78942'], ['466', None, '157', None, '1635', None, '272', None, '403', None, '127', None, '860Z200US78946', 'ZCTA5 78946', '860Z200US78946'], ['986', None, '305', None, '1592', None, '262', None, '554', None, '109', None, '860Z200US78947', 'ZCTA5 78947', '860Z200US78947'], ['863', None, '560', None, '1681', None, '570', None, '533', None, '62', None, '860Z200US78948', 'ZCTA5 78948', '860Z200US78948'], ['1087', None, '96', None, '1397', None, '527', None, '738', None, '584', None, '860Z200US78953', 'ZCTA5 78953', '860Z200US78953']]\n"
     ]
    }
   ],
   "source": [
    "mmc_2022_url = \"https://api.census.gov/data/2022/acs/acs5?get=group(B25088)&ucgid=\" + geocodes\n",
    "r_mmc_2022 = requests.get(mmc_2022_url).json()\n",
    "\n",
    "print(r_mmc_2022)"
   ]
  },
  {
   "cell_type": "code",
   "execution_count": 7,
   "metadata": {},
   "outputs": [
    {
     "data": {
      "text/plain": [
       "166"
      ]
     },
     "execution_count": 7,
     "metadata": {},
     "output_type": "execute_result"
    }
   ],
   "source": [
    "len(r_mmc_2022)"
   ]
  },
  {
   "cell_type": "code",
   "execution_count": 8,
   "metadata": {},
   "outputs": [
    {
     "data": {
      "text/plain": [
       "'B25088_003E'"
      ]
     },
     "execution_count": 8,
     "metadata": {},
     "output_type": "execute_result"
    }
   ],
   "source": [
    "test = r_mmc_2022[0][8]\n",
    "test"
   ]
  },
  {
   "cell_type": "code",
   "execution_count": 9,
   "metadata": {},
   "outputs": [
    {
     "data": {
      "text/plain": [
       "0              GEO_ID\n",
       "1      860Z200US76501\n",
       "2      860Z200US76502\n",
       "3      860Z200US76504\n",
       "4      860Z200US76511\n",
       "            ...      \n",
       "161    860Z200US78942\n",
       "162    860Z200US78946\n",
       "163    860Z200US78947\n",
       "164    860Z200US78948\n",
       "165    860Z200US78953\n",
       "Length: 166, dtype: object"
      ]
     },
     "execution_count": 9,
     "metadata": {},
     "output_type": "execute_result"
    }
   ],
   "source": [
    "r_mmc_2022_zip = pd.Series()\n",
    "\n",
    "i = 1\n",
    "for i in range(166):\n",
    "    data = r_mmc_2022[i][12]\n",
    "    r_mmc_2022_zip[i] = data\n",
    "    \n",
    "\n",
    "\n",
    "r_mmc_2022_zip"
   ]
  },
  {
   "cell_type": "code",
   "execution_count": 10,
   "metadata": {},
   "outputs": [
    {
     "data": {
      "text/plain": [
       "0      B25088_001E\n",
       "1              882\n",
       "2             1315\n",
       "3              955\n",
       "4              837\n",
       "          ...     \n",
       "161            922\n",
       "162            466\n",
       "163            986\n",
       "164            863\n",
       "165           1087\n",
       "Length: 166, dtype: object"
      ]
     },
     "execution_count": 10,
     "metadata": {},
     "output_type": "execute_result"
    }
   ],
   "source": [
    "r_mmc_2022_total = pd.Series()\n",
    "\n",
    "i = 1\n",
    "for i in range(166):\n",
    "    data = r_mmc_2022[i][0]\n",
    "    r_mmc_2022_total[i] = data\n",
    "    \n",
    "\n",
    "\n",
    "r_mmc_2022_total"
   ]
  },
  {
   "cell_type": "code",
   "execution_count": 11,
   "metadata": {},
   "outputs": [
    {
     "data": {
      "text/plain": [
       "0      B25088_002E\n",
       "1             1320\n",
       "2             1646\n",
       "3             1313\n",
       "4             1260\n",
       "          ...     \n",
       "161           1768\n",
       "162           1635\n",
       "163           1592\n",
       "164           1681\n",
       "165           1397\n",
       "Length: 166, dtype: object"
      ]
     },
     "execution_count": 11,
     "metadata": {},
     "output_type": "execute_result"
    }
   ],
   "source": [
    "r_mmc_2022_wMort = pd.Series()\n",
    "\n",
    "i = 1\n",
    "for i in range(166):\n",
    "    data = r_mmc_2022[i][4]\n",
    "    r_mmc_2022_wMort[i] = data\n",
    "    \n",
    "\n",
    "\n",
    "r_mmc_2022_wMort"
   ]
  },
  {
   "cell_type": "code",
   "execution_count": 12,
   "metadata": {},
   "outputs": [
    {
     "data": {
      "text/plain": [
       "0      B25088_003E\n",
       "1              510\n",
       "2              636\n",
       "3              490\n",
       "4              555\n",
       "          ...     \n",
       "161            484\n",
       "162            403\n",
       "163            554\n",
       "164            533\n",
       "165            738\n",
       "Length: 166, dtype: object"
      ]
     },
     "execution_count": 12,
     "metadata": {},
     "output_type": "execute_result"
    }
   ],
   "source": [
    "r_mmc_2022_woMort = pd.Series()\n",
    "\n",
    "i = 1\n",
    "for i in range(166):\n",
    "    data = r_mmc_2022[i][8]\n",
    "    r_mmc_2022_woMort[i] = data\n",
    "    \n",
    "\n",
    "\n",
    "r_mmc_2022_woMort"
   ]
  },
  {
   "cell_type": "code",
   "execution_count": 13,
   "metadata": {},
   "outputs": [
    {
     "data": {
      "text/html": [
       "<div>\n",
       "<style scoped>\n",
       "    .dataframe tbody tr th:only-of-type {\n",
       "        vertical-align: middle;\n",
       "    }\n",
       "\n",
       "    .dataframe tbody tr th {\n",
       "        vertical-align: top;\n",
       "    }\n",
       "\n",
       "    .dataframe thead th {\n",
       "        text-align: right;\n",
       "    }\n",
       "</style>\n",
       "<table border=\"1\" class=\"dataframe\">\n",
       "  <thead>\n",
       "    <tr style=\"text-align: right;\">\n",
       "      <th></th>\n",
       "      <th>Zip Code</th>\n",
       "      <th>2022 Total</th>\n",
       "      <th>2022 With Mortgage</th>\n",
       "      <th>2022 Without Mortgage</th>\n",
       "    </tr>\n",
       "  </thead>\n",
       "  <tbody>\n",
       "    <tr>\n",
       "      <th>1</th>\n",
       "      <td>76501</td>\n",
       "      <td>882</td>\n",
       "      <td>1320</td>\n",
       "      <td>510</td>\n",
       "    </tr>\n",
       "    <tr>\n",
       "      <th>2</th>\n",
       "      <td>76502</td>\n",
       "      <td>1315</td>\n",
       "      <td>1646</td>\n",
       "      <td>636</td>\n",
       "    </tr>\n",
       "    <tr>\n",
       "      <th>3</th>\n",
       "      <td>76504</td>\n",
       "      <td>955</td>\n",
       "      <td>1313</td>\n",
       "      <td>490</td>\n",
       "    </tr>\n",
       "    <tr>\n",
       "      <th>4</th>\n",
       "      <td>76511</td>\n",
       "      <td>837</td>\n",
       "      <td>1260</td>\n",
       "      <td>555</td>\n",
       "    </tr>\n",
       "    <tr>\n",
       "      <th>5</th>\n",
       "      <td>76513</td>\n",
       "      <td>1274</td>\n",
       "      <td>1788</td>\n",
       "      <td>608</td>\n",
       "    </tr>\n",
       "  </tbody>\n",
       "</table>\n",
       "</div>"
      ],
      "text/plain": [
       "  Zip Code 2022 Total 2022 With Mortgage 2022 Without Mortgage\n",
       "1    76501        882               1320                   510\n",
       "2    76502       1315               1646                   636\n",
       "3    76504        955               1313                   490\n",
       "4    76511        837               1260                   555\n",
       "5    76513       1274               1788                   608"
      ]
     },
     "execution_count": 13,
     "metadata": {},
     "output_type": "execute_result"
    }
   ],
   "source": [
    "med_month_cost_2022 = pd.DataFrame({\"Zip Code\" : r_mmc_2022_zip,\n",
    "                                    \"2022 Total\" : r_mmc_2022_total,\n",
    "                                    \"2022 With Mortgage\" : r_mmc_2022_wMort,\n",
    "                                    \"2022 Without Mortgage\":r_mmc_2022_woMort})\n",
    "\n",
    "med_month_cost_2022 = med_month_cost_2022.drop(index=0)\n",
    "med_month_cost_2022['Zip Code'] = med_month_cost_2022[\"Zip Code\"].str.replace('860Z200US', '')\n",
    "med_month_cost_2022.head()"
   ]
  },
  {
   "cell_type": "code",
   "execution_count": 14,
   "metadata": {},
   "outputs": [
    {
     "data": {
      "text/html": [
       "<div>\n",
       "<style scoped>\n",
       "    .dataframe tbody tr th:only-of-type {\n",
       "        vertical-align: middle;\n",
       "    }\n",
       "\n",
       "    .dataframe tbody tr th {\n",
       "        vertical-align: top;\n",
       "    }\n",
       "\n",
       "    .dataframe thead th {\n",
       "        text-align: right;\n",
       "    }\n",
       "</style>\n",
       "<table border=\"1\" class=\"dataframe\">\n",
       "  <thead>\n",
       "    <tr style=\"text-align: right;\">\n",
       "      <th></th>\n",
       "      <th>zip code</th>\n",
       "    </tr>\n",
       "  </thead>\n",
       "  <tbody>\n",
       "    <tr>\n",
       "      <th>1</th>\n",
       "      <td>76501</td>\n",
       "    </tr>\n",
       "    <tr>\n",
       "      <th>2</th>\n",
       "      <td>76502</td>\n",
       "    </tr>\n",
       "    <tr>\n",
       "      <th>3</th>\n",
       "      <td>76504</td>\n",
       "    </tr>\n",
       "    <tr>\n",
       "      <th>4</th>\n",
       "      <td>76511</td>\n",
       "    </tr>\n",
       "    <tr>\n",
       "      <th>5</th>\n",
       "      <td>76513</td>\n",
       "    </tr>\n",
       "    <tr>\n",
       "      <th>...</th>\n",
       "      <td>...</td>\n",
       "    </tr>\n",
       "    <tr>\n",
       "      <th>161</th>\n",
       "      <td>78942</td>\n",
       "    </tr>\n",
       "    <tr>\n",
       "      <th>162</th>\n",
       "      <td>78946</td>\n",
       "    </tr>\n",
       "    <tr>\n",
       "      <th>163</th>\n",
       "      <td>78947</td>\n",
       "    </tr>\n",
       "    <tr>\n",
       "      <th>164</th>\n",
       "      <td>78948</td>\n",
       "    </tr>\n",
       "    <tr>\n",
       "      <th>165</th>\n",
       "      <td>78953</td>\n",
       "    </tr>\n",
       "  </tbody>\n",
       "</table>\n",
       "<p>165 rows × 1 columns</p>\n",
       "</div>"
      ],
      "text/plain": [
       "    zip code\n",
       "1      76501\n",
       "2      76502\n",
       "3      76504\n",
       "4      76511\n",
       "5      76513\n",
       "..       ...\n",
       "161    78942\n",
       "162    78946\n",
       "163    78947\n",
       "164    78948\n",
       "165    78953\n",
       "\n",
       "[165 rows x 1 columns]"
      ]
     },
     "execution_count": 14,
     "metadata": {},
     "output_type": "execute_result"
    }
   ],
   "source": [
    "zipcode = pd.DataFrame({\"zip code\" : med_month_cost_2022['Zip Code']})\n",
    "zipcode"
   ]
  },
  {
   "cell_type": "code",
   "execution_count": 15,
   "metadata": {},
   "outputs": [],
   "source": [
    "zipcode.to_csv('zipcodes.csv')"
   ]
  },
  {
   "cell_type": "code",
   "execution_count": 16,
   "metadata": {},
   "outputs": [
    {
     "name": "stdout",
     "output_type": "stream",
     "text": [
      "[['B25088_001E', 'B25088_001EA', 'B25088_001M', 'B25088_001MA', 'B25088_002E', 'B25088_002EA', 'B25088_002M', 'B25088_002MA', 'B25088_003E', 'B25088_003EA', 'B25088_003M', 'B25088_003MA', 'GEO_ID', 'NAME', 'ucgid'], ['848', None, '84', None, '1157', None, '78', None, '459', None, '35', None, '860Z200US76501', 'ZCTA5 76501', '860Z200US76501'], ['1209', None, '74', None, '1517', None, '57', None, '595', None, '46', None, '860Z200US76502', 'ZCTA5 76502', '860Z200US76502'], ['824', None, '127', None, '1177', None, '74', None, '452', None, '27', None, '860Z200US76504', 'ZCTA5 76504', '860Z200US76504'], ['793', None, '174', None, '1177', None, '129', None, '505', None, '97', None, '860Z200US76511', 'ZCTA5 76511', '860Z200US76511'], ['1201', None, '89', None, '1636', None, '94', None, '547', None, '39', None, '860Z200US76513', 'ZCTA5 76513', '860Z200US76513'], ['520', None, '200', None, '1507', None, '325', None, '399', None, '70', None, '860Z200US76518', 'ZCTA5 76518', '860Z200US76518'], ['1041', None, '704', None, '1825', None, '1159', None, '571', None, '361', None, '860Z200US76519', 'ZCTA5 76519', '860Z200US76519'], ['636', None, '56', None, '1042', None, '208', None, '484', None, '63', None, '860Z200US76520', 'ZCTA5 76520', '860Z200US76520'], ['1052', None, '65', None, '1337', None, '55', None, '526', None, '31', None, '860Z200US76522', 'ZCTA5 76522', '860Z200US76522'], ['1105', None, '310', None, '1504', None, '216', None, '495', None, '77', None, '860Z200US76524', 'ZCTA5 76524', '860Z200US76524'], ['591', None, '164', None, '1229', None, '167', None, '392', None, '91', None, '860Z200US76525', 'ZCTA5 76525', '860Z200US76525'], ['1206', None, '494', None, '1918', None, '175', None, '596', None, '176', None, '860Z200US76527', 'ZCTA5 76527', '860Z200US76527'], ['680', None, '50', None, '1273', None, '82', None, '417', None, '38', None, '860Z200US76528', 'ZCTA5 76528', '860Z200US76528'], ['948', None, '208', None, '1628', None, '175', None, '484', None, '52', None, '860Z200US76530', 'ZCTA5 76530', '860Z200US76530'], ['1023', None, '175', None, '1461', None, '282', None, '546', None, '75', None, '860Z200US76534', 'ZCTA5 76534', '860Z200US76534'], ['1589', None, '76', None, '1699', None, '73', None, '570', None, '92', None, '860Z200US76537', 'ZCTA5 76537', '860Z200US76537'], ['792', None, '263', None, '992', None, '721', None, '523', None, '66', None, '860Z200US76538', 'ZCTA5 76538', '860Z200US76538'], ['1289', None, '63', None, '1461', None, '73', None, '549', None, '35', None, '860Z200US76539', 'ZCTA5 76539', '860Z200US76539'], ['609', None, '175', None, '985', None, '115', None, '397', None, '43', None, '860Z200US76541', 'ZCTA5 76541', '860Z200US76541'], ['1252', None, '60', None, '1481', None, '56', None, '521', None, '35', None, '860Z200US76542', 'ZCTA5 76542', '860Z200US76542'], ['817', None, '97', None, '1109', None, '46', None, '421', None, '29', None, '860Z200US76543', 'ZCTA5 76543', '860Z200US76543'], ['473', None, '70', None, '-666666666', '-', '-222222222', '**', '473', None, '70', None, '860Z200US76544', 'ZCTA5 76544', '860Z200US76544'], ['1469', None, '124', None, '1671', None, '63', None, '649', None, '71', None, '860Z200US76548', 'ZCTA5 76548', '860Z200US76548'], ['1217', None, '68', None, '1394', None, '48', None, '470', None, '51', None, '860Z200US76549', 'ZCTA5 76549', '860Z200US76549'], ['898', None, '49', None, '1353', None, '101', None, '638', None, '67', None, '860Z200US76550', 'ZCTA5 76550', '860Z200US76550'], ['853', None, '125', None, '1168', None, '149', None, '466', None, '68', None, '860Z200US76554', 'ZCTA5 76554', '860Z200US76554'], ['480', None, '156', None, '1298', None, '124', None, '307', None, '46', None, '860Z200US76556', 'ZCTA5 76556', '860Z200US76556'], ['764', None, '419', None, '1701', None, '462', None, '387', None, '67', None, '860Z200US76557', 'ZCTA5 76557', '860Z200US76557'], ['1387', None, '69', None, '1435', None, '61', None, '292', None, '116', None, '860Z200US76559', 'ZCTA5 76559', '860Z200US76559'], ['825', None, '140', None, '1000', None, '337', None, '482', None, '44', None, '860Z200US76561', 'ZCTA5 76561', '860Z200US76561'], ['635', None, '308', None, '2580', None, '1302', None, '483', None, '162', None, '860Z200US76566', 'ZCTA5 76566', '860Z200US76566'], ['741', None, '133', None, '1174', None, '96', None, '490', None, '75', None, '860Z200US76567', 'ZCTA5 76567', '860Z200US76567'], ['656', None, '141', None, '1160', None, '259', None, '377', None, '56', None, '860Z200US76569', 'ZCTA5 76569', '860Z200US76569'], ['437', None, '171', None, '1641', None, '196', None, '329', None, '41', None, '860Z200US76570', 'ZCTA5 76570', '860Z200US76570'], ['1243', None, '280', None, '1894', None, '147', None, '669', None, '51', None, '860Z200US76571', 'ZCTA5 76571', '860Z200US76571'], ['1120', None, '73', None, '1609', None, '68', None, '596', None, '56', None, '860Z200US76574', 'ZCTA5 76574', '860Z200US76574'], ['840', None, '193', None, '1242', None, '181', None, '361', None, '48', None, '860Z200US76577', 'ZCTA5 76577', '860Z200US76577'], ['1130', None, '546', None, '1641', None, '154', None, '609', None, '97', None, '860Z200US76578', 'ZCTA5 76578', '860Z200US76578'], ['1017', None, '167', None, '1299', None, '104', None, '471', None, '82', None, '860Z200US76579', 'ZCTA5 76579', '860Z200US76579'], ['742', None, '147', None, '1300', None, '253', None, '433', None, '69', None, '860Z200US76624', 'ZCTA5 76624', '860Z200US76624'], ['1276', None, '501', None, '1550', None, '137', None, '469', None, '82', None, '860Z200US76630', 'ZCTA5 76630', '860Z200US76630'], ['440', None, '78', None, '1495', None, '696', None, '372', None, '65', None, '860Z200US76632', 'ZCTA5 76632', '860Z200US76632'], ['1149', None, '212', None, '1705', None, '426', None, '641', None, '68', None, '860Z200US76633', 'ZCTA5 76633', '860Z200US76633'], ['1196', None, '214', None, '2228', None, '246', None, '685', None, '79', None, '860Z200US76638', 'ZCTA5 76638', '860Z200US76638'], ['734', None, '220', None, '1144', None, '114', None, '383', None, '66', None, '860Z200US76640', 'ZCTA5 76640', '860Z200US76640'], ['1221', None, '143', None, '1549', None, '63', None, '624', None, '56', None, '860Z200US76643', 'ZCTA5 76643', '860Z200US76643'], ['1341', None, '124', None, '1846', None, '122', None, '642', None, '75', None, '860Z200US76655', 'ZCTA5 76655', '860Z200US76655'], ['790', None, '249', None, '1372', None, '306', None, '342', None, '29', None, '860Z200US76656', 'ZCTA5 76656', '860Z200US76656'], ['1390', None, '193', None, '2537', None, '434', None, '665', None, '112', None, '860Z200US76657', 'ZCTA5 76657', '860Z200US76657'], ['551', None, '226', None, '985', None, '83', None, '428', None, '39', None, '860Z200US76661', 'ZCTA5 76661', '860Z200US76661'], ['791', None, '114', None, '1265', None, '114', None, '521', None, '92', None, '860Z200US76664', 'ZCTA5 76664', '860Z200US76664'], ['-666666666', '-', '-222222222', '**', '-666666666', '-', '-222222222', '**', '-666666666', '-', '-222222222', '**', '860Z200US76680', 'ZCTA5 76680', '860Z200US76680'], ['687', None, '250', None, '1297', None, '139', None, '458', None, '88', None, '860Z200US76682', 'ZCTA5 76682', '860Z200US76682'], ['-666666666', '-', '-222222222', '**', '-666666666', '-', '-222222222', '**', '-666666666', '-', '-222222222', '**', '860Z200US76685', 'ZCTA5 76685', '860Z200US76685'], ['828', None, '130', None, '1666', None, '256', None, '489', None, '66', None, '860Z200US76691', 'ZCTA5 76691', '860Z200US76691'], ['755', None, '250', None, '1794', None, '1020', None, '595', None, '248', None, '860Z200US76701', 'ZCTA5 76701', '860Z200US76701'], ['657', None, '83', None, '1061', None, '159', None, '474', None, '100', None, '860Z200US76704', 'ZCTA5 76704', '860Z200US76704'], ['842', None, '54', None, '1160', None, '43', None, '490', None, '50', None, '860Z200US76705', 'ZCTA5 76705', '860Z200US76705'], ['778', None, '67', None, '1547', None, '109', None, '544', None, '31', None, '860Z200US76706', 'ZCTA5 76706', '860Z200US76706'], ['661', None, '69', None, '972', None, '68', None, '439', None, '26', None, '860Z200US76707', 'ZCTA5 76707', '860Z200US76707'], ['942', None, '74', None, '1456', None, '78', None, '530', None, '26', None, '860Z200US76708', 'ZCTA5 76708', '860Z200US76708'], ['947', None, '107', None, '1477', None, '90', None, '609', None, '52', None, '860Z200US76710', 'ZCTA5 76710', '860Z200US76710'], ['498', None, '95', None, '1066', None, '77', None, '376', None, '23', None, '860Z200US76711', 'ZCTA5 76711', '860Z200US76711'], ['1401', None, '79', None, '1702', None, '61', None, '747', None, '48', None, '860Z200US76712', 'ZCTA5 76712', '860Z200US76712'], ['-666666666', '-', '-222222222', '**', '-666666666', '-', '-222222222', '**', '-666666666', '-', '-222222222', '**', '860Z200US76798', 'ZCTA5 76798', '860Z200US76798'], ['-666666666', '-', '-222222222', '**', '-666666666', '-', '-222222222', '**', '-666666666', '-', '-222222222', '**', '860Z200US76831', 'ZCTA5 76831', '860Z200US76831'], ['664', None, '97', None, '1178', None, '267', None, '485', None, '104', None, '860Z200US76853', 'ZCTA5 76853', '860Z200US76853'], ['392', None, '136', None, '-666666666', '-', '-222222222', '**', '346', None, '223', None, '860Z200US76885', 'ZCTA5 76885', '860Z200US76885'], ['553', None, '129', None, '1160', None, '223', None, '485', None, '76', None, '860Z200US77853', 'ZCTA5 77853', '860Z200US77853'], ['1169', None, '175', None, '1588', None, '76', None, '611', None, '50', None, '860Z200US78602', 'ZCTA5 78602', '860Z200US78602'], ['911', None, '220', None, '1676', None, '511', None, '328', None, '48', None, '860Z200US78605', 'ZCTA5 78605', '860Z200US78605'], ['1183', None, '292', None, '1635', None, '126', None, '568', None, '137', None, '860Z200US78606', 'ZCTA5 78606', '860Z200US78606'], ['-666666666', '-', '-222222222', '**', '-666666666', '-', '-222222222', '**', '524', None, '338', None, '860Z200US78607', 'ZCTA5 78607', '860Z200US78607'], ['-666666666', '-', '-222222222', '**', '1565', None, '424', None, '-666666666', '-', '-222222222', '**', '860Z200US78608', 'ZCTA5 78608', '860Z200US78608'], ['658', None, '129', None, '1594', None, '522', None, '480', None, '98', None, '860Z200US78609', 'ZCTA5 78609', '860Z200US78609'], ['1748', None, '103', None, '1999', None, '79', None, '816', None, '121', None, '860Z200US78610', 'ZCTA5 78610', '860Z200US78610'], ['933', None, '185', None, '1577', None, '136', None, '564', None, '92', None, '860Z200US78611', 'ZCTA5 78611', '860Z200US78611'], ['1216', None, '120', None, '1662', None, '180', None, '573', None, '78', None, '860Z200US78612', 'ZCTA5 78612', '860Z200US78612'], ['1915', None, '78', None, '2240', None, '52', None, '841', None, '50', None, '860Z200US78613', 'ZCTA5 78613', '860Z200US78613'], ['1225', None, '412', None, '1473', None, '236', None, '538', None, '328', None, '860Z200US78615', 'ZCTA5 78615', '860Z200US78615'], ['1065', None, '119', None, '1472', None, '88', None, '583', None, '167', None, '860Z200US78617', 'ZCTA5 78617', '860Z200US78617'], ['562', None, '89', None, '1613', None, '445', None, '517', None, '99', None, '860Z200US78618', 'ZCTA5 78618', '860Z200US78618'], ['2108', None, '604', None, '3166', None, '152', None, '845', None, '85', None, '860Z200US78619', 'ZCTA5 78619', '860Z200US78619'], ['1862', None, '299', None, '2524', None, '181', None, '940', None, '141', None, '860Z200US78620', 'ZCTA5 78620', '860Z200US78620'], ['1188', None, '126', None, '1639', None, '114', None, '540', None, '74', None, '860Z200US78621', 'ZCTA5 78621', '860Z200US78621'], ['905', None, '112', None, '1785', None, '121', None, '622', None, '27', None, '860Z200US78624', 'ZCTA5 78624', '860Z200US78624'], ['1544', None, '116', None, '1848', None, '108', None, '685', None, '46', None, '860Z200US78626', 'ZCTA5 78626', '860Z200US78626'], ['1901', None, '85', None, '2330', None, '84', None, '868', None, '42', None, '860Z200US78628', 'ZCTA5 78628', '860Z200US78628'], ['745', None, '346', None, '1680', None, '161', None, '431', None, '71', None, '860Z200US78631', 'ZCTA5 78631', '860Z200US78631'], ['1230', None, '85', None, '2017', None, '123', None, '780', None, '29', None, '860Z200US78633', 'ZCTA5 78633', '860Z200US78633'], ['1752', None, '70', None, '1870', None, '59', None, '739', None, '128', None, '860Z200US78634', 'ZCTA5 78634', '860Z200US78634'], ['-666666666', '-', '-222222222', '**', '-666666666', '-', '-222222222', '**', '-666666666', '-', '-222222222', '**', '860Z200US78635', 'ZCTA5 78635', '860Z200US78635'], ['792', None, '189', None, '1441', None, '219', None, '565', None, '68', None, '860Z200US78636', 'ZCTA5 78636', '860Z200US78636'], ['963', None, '166', None, '1312', None, '145', None, '492', None, '59', None, '860Z200US78639', 'ZCTA5 78639', '860Z200US78639'], ['1433', None, '102', None, '1710', None, '64', None, '692', None, '63', None, '860Z200US78640', 'ZCTA5 78640', '860Z200US78640'], ['1865', None, '60', None, '2132', None, '70', None, '829', None, '48', None, '860Z200US78641', 'ZCTA5 78641', '860Z200US78641'], ['2079', None, '115', None, '2365', None, '103', None, '765', None, '88', None, '860Z200US78642', 'ZCTA5 78642', '860Z200US78642'], ['852', None, '122', None, '1323', None, '233', None, '470', None, '47', None, '860Z200US78643', 'ZCTA5 78643', '860Z200US78643'], ['1371', None, '124', None, '2016', None, '179', None, '685', None, '84', None, '860Z200US78645', 'ZCTA5 78645', '860Z200US78645'], ['841', None, '77', None, '1181', None, '91', None, '647', None, '308', None, '860Z200US78650', 'ZCTA5 78650', '860Z200US78650'], ['1945', None, '236', None, '2248', None, '179', None, '555', None, '105', None, '860Z200US78652', 'ZCTA5 78652', '860Z200US78652'], ['1545', None, '66', None, '1673', None, '67', None, '670', None, '90', None, '860Z200US78653', 'ZCTA5 78653', '860Z200US78653'], ['974', None, '95', None, '1605', None, '126', None, '615', None, '49', None, '860Z200US78654', 'ZCTA5 78654', '860Z200US78654'], ['1101', None, '95', None, '1650', None, '198', None, '735', None, '154', None, '860Z200US78657', 'ZCTA5 78657', '860Z200US78657'], ['924', None, '311', None, '1615', None, '120', None, '524', None, '85', None, '860Z200US78659', 'ZCTA5 78659', '860Z200US78659'], ['1717', None, '64', None, '1949', None, '65', None, '786', None, '57', None, '860Z200US78660', 'ZCTA5 78660', '860Z200US78660'], ['915', None, '523', None, '1454', None, '282', None, '-666666666', '-', '-222222222', '**', '860Z200US78662', 'ZCTA5 78662', '860Z200US78662'], ['1598', None, '696', None, '1848', None, '288', None, '558', None, '95', None, '860Z200US78663', 'ZCTA5 78663', '860Z200US78663'], ['1625', None, '34', None, '1738', None, '40', None, '746', None, '50', None, '860Z200US78664', 'ZCTA5 78664', '860Z200US78664'], ['1976', None, '89', None, '2248', None, '86', None, '872', None, '94', None, '860Z200US78665', 'ZCTA5 78665', '860Z200US78665'], ['1141', None, '84', None, '1606', None, '75', None, '529', None, '40', None, '860Z200US78666', 'ZCTA5 78666', '860Z200US78666'], ['2084', None, '280', None, '2739', None, '155', None, '807', None, '168', None, '860Z200US78669', 'ZCTA5 78669', '860Z200US78669'], ['632', None, '490', None, '1411', None, '221', None, '469', None, '80', None, '860Z200US78671', 'ZCTA5 78671', '860Z200US78671'], ['608', None, '283', None, '1181', None, '167', None, '430', None, '78', None, '860Z200US78672', 'ZCTA5 78672', '860Z200US78672'], ['1076', None, '542', None, '-666666666', '-', '-222222222', '**', '-666666666', '-', '-222222222', '**', '860Z200US78675', 'ZCTA5 78675', '860Z200US78675'], ['1348', None, '198', None, '1892', None, '141', None, '787', None, '119', None, '860Z200US78676', 'ZCTA5 78676', '860Z200US78676'], ['1911', None, '64', None, '2312', None, '60', None, '840', None, '51', None, '860Z200US78681', 'ZCTA5 78681', '860Z200US78681'], ['2877', None, '213', None, '3246', None, '251', None, '1501', '1,500+', '-333333333', '***', '860Z200US78701', 'ZCTA5 78701', '860Z200US78701'], ['1800', None, '185', None, '2464', None, '176', None, '799', None, '94', None, '860Z200US78702', 'ZCTA5 78702', '860Z200US78702'], ['3073', None, '344', None, '4001', '4,000+', '-333333333', '***', '1501', '1,500+', '-333333333', '***', '860Z200US78703', 'ZCTA5 78703', '860Z200US78703'], ['2295', None, '144', None, '3078', None, '135', None, '1232', None, '74', None, '860Z200US78704', 'ZCTA5 78704', '860Z200US78704'], ['1382', None, '442', None, '2644', None, '449', None, '929', None, '135', None, '860Z200US78705', 'ZCTA5 78705', '860Z200US78705'], ['-666666666', '-', '-222222222', '**', '-666666666', '-', '-222222222', '**', '-666666666', '-', '-222222222', '**', '860Z200US78712', 'ZCTA5 78712', '860Z200US78712'], ['2411', None, '131', None, '2781', None, '83', None, '1090', None, '93', None, '860Z200US78717', 'ZCTA5 78717', '860Z200US78717'], ['763', None, '172', None, '1245', None, '258', None, '588', None, '103', None, '860Z200US78719', 'ZCTA5 78719', '860Z200US78719'], ['1390', None, '191', None, '1951', None, '236', None, '650', None, '72', None, '860Z200US78721', 'ZCTA5 78721', '860Z200US78721'], ['2009', None, '316', None, '2731', None, '206', None, '834', None, '146', None, '860Z200US78722', 'ZCTA5 78722', '860Z200US78722'], ['1832', None, '95', None, '2249', None, '112', None, '788', None, '69', None, '860Z200US78723', 'ZCTA5 78723', '860Z200US78723'], ['927', None, '58', None, '1403', None, '91', None, '599', None, '50', None, '860Z200US78724', 'ZCTA5 78724', '860Z200US78724'], ['1340', None, '147', None, '1529', None, '168', None, '586', None, '399', None, '860Z200US78725', 'ZCTA5 78725', '860Z200US78725'], ['2757', None, '450', None, '3171', None, '184', None, '1007', None, '173', None, '860Z200US78726', 'ZCTA5 78726', '860Z200US78726'], ['1730', None, '102', None, '2049', None, '86', None, '859', None, '50', None, '860Z200US78727', 'ZCTA5 78727', '860Z200US78727'], ['1843', None, '96', None, '2035', None, '105', None, '753', None, '61', None, '860Z200US78729', 'ZCTA5 78729', '860Z200US78729'], ['3486', None, '520', None, '4001', '4,000+', '-333333333', '***', '1501', '1,500+', '-333333333', '***', '860Z200US78730', 'ZCTA5 78730', '860Z200US78730'], ['2307', None, '188', None, '3614', None, '223', None, '1171', None, '89', None, '860Z200US78731', 'ZCTA5 78731', '860Z200US78731'], ['2843', None, '154', None, '3310', None, '386', None, '1290', None, '317', None, '860Z200US78732', 'ZCTA5 78732', '860Z200US78732'], ['2769', None, '329', None, '3397', None, '232', None, '1271', None, '235', None, '860Z200US78733', 'ZCTA5 78733', '860Z200US78733'], ['2216', None, '137', None, '2700', None, '212', None, '1068', None, '67', None, '860Z200US78734', 'ZCTA5 78734', '860Z200US78734'], ['2631', None, '238', None, '3305', None, '209', None, '1204', None, '124', None, '860Z200US78735', 'ZCTA5 78735', '860Z200US78735'], ['1763', None, '356', None, '2427', None, '257', None, '677', None, '123', None, '860Z200US78736', 'ZCTA5 78736', '860Z200US78736'], ['2624', None, '183', None, '3151', None, '149', None, '1037', None, '118', None, '860Z200US78737', 'ZCTA5 78737', '860Z200US78737'], ['2852', None, '154', None, '3264', None, '210', None, '1319', None, '154', None, '860Z200US78738', 'ZCTA5 78738', '860Z200US78738'], ['2587', None, '163', None, '3018', None, '128', None, '1126', None, '51', None, '860Z200US78739', 'ZCTA5 78739', '860Z200US78739'], ['1232', None, '212', None, '1967', None, '166', None, '562', None, '94', None, '860Z200US78741', 'ZCTA5 78741', '860Z200US78741'], ['708', None, '555', None, '1875', None, '332', None, '-666666666', '-', '-222222222', '**', '860Z200US78742', 'ZCTA5 78742', '860Z200US78742'], ['1233', None, '118', None, '1538', None, '65', None, '579', None, '90', None, '860Z200US78744', 'ZCTA5 78744', '860Z200US78744'], ['1541', None, '77', None, '1925', None, '63', None, '678', None, '41', None, '860Z200US78745', 'ZCTA5 78745', '860Z200US78745'], ['3158', None, '194', None, '4001', '4,000+', '-333333333', '***', '1501', '1,500+', '-333333333', '***', '860Z200US78746', 'ZCTA5 78746', '860Z200US78746'], ['1403', None, '75', None, '1620', None, '142', None, '695', None, '110', None, '860Z200US78747', 'ZCTA5 78747', '860Z200US78747'], ['1716', None, '87', None, '1975', None, '79', None, '780', None, '49', None, '860Z200US78748', 'ZCTA5 78748', '860Z200US78748'], ['1830', None, '106', None, '2157', None, '95', None, '912', None, '47', None, '860Z200US78749', 'ZCTA5 78749', '860Z200US78749'], ['1739', None, '99', None, '2523', None, '163', None, '1061', None, '80', None, '860Z200US78750', 'ZCTA5 78750', '860Z200US78750'], ['2296', None, '174', None, '2901', None, '267', None, '1070', None, '158', None, '860Z200US78751', 'ZCTA5 78751', '860Z200US78751'], ['1347', None, '124', None, '1685', None, '173', None, '578', None, '54', None, '860Z200US78752', 'ZCTA5 78752', '860Z200US78752'], ['1255', None, '121', None, '1679', None, '77', None, '677', None, '106', None, '860Z200US78753', 'ZCTA5 78753', '860Z200US78753'], ['1778', None, '116', None, '1949', None, '93', None, '798', None, '63', None, '860Z200US78754', 'ZCTA5 78754', '860Z200US78754'], ['2167', None, '232', None, '3037', None, '384', None, '1296', None, '280', None, '860Z200US78756', 'ZCTA5 78756', '860Z200US78756'], ['1886', None, '189', None, '2639', None, '171', None, '904', None, '108', None, '860Z200US78757', 'ZCTA5 78757', '860Z200US78757'], ['1414', None, '94', None, '1735', None, '85', None, '673', None, '51', None, '860Z200US78758', 'ZCTA5 78758', '860Z200US78758'], ['1937', None, '133', None, '2656', None, '148', None, '963', None, '60', None, '860Z200US78759', 'ZCTA5 78759', '860Z200US78759'], ['905', None, '182', None, '1611', None, '284', None, '481', None, '54', None, '860Z200US78942', 'ZCTA5 78942', '860Z200US78942'], ['514', None, '115', None, '1505', None, '168', None, '433', None, '151', None, '860Z200US78946', 'ZCTA5 78946', '860Z200US78946'], ['742', None, '293', None, '1432', None, '130', None, '541', None, '99', None, '860Z200US78947', 'ZCTA5 78947', '860Z200US78947'], ['942', None, '516', None, '1696', None, '434', None, '554', None, '91', None, '860Z200US78948', 'ZCTA5 78948', '860Z200US78948'], ['996', None, '140', None, '1166', None, '322', None, '742', None, '275', None, '860Z200US78953', 'ZCTA5 78953', '860Z200US78953']]\n"
     ]
    }
   ],
   "source": [
    "mmc_2021_url = \"https://api.census.gov/data/2021/acs/acs5?get=group(B25088)&ucgid=\" + geocodes\n",
    "r_mmc_2021 = requests.get(mmc_2021_url).json()\n",
    "\n",
    "print(r_mmc_2021)"
   ]
  },
  {
   "cell_type": "code",
   "execution_count": 17,
   "metadata": {},
   "outputs": [
    {
     "data": {
      "text/plain": [
       "0              GEO_ID\n",
       "1      860Z200US76501\n",
       "2      860Z200US76502\n",
       "3      860Z200US76504\n",
       "4      860Z200US76511\n",
       "            ...      \n",
       "161    860Z200US78942\n",
       "162    860Z200US78946\n",
       "163    860Z200US78947\n",
       "164    860Z200US78948\n",
       "165    860Z200US78953\n",
       "Length: 166, dtype: object"
      ]
     },
     "execution_count": 17,
     "metadata": {},
     "output_type": "execute_result"
    }
   ],
   "source": [
    "r_mmc_2021_zip = pd.Series()\n",
    "\n",
    "i = 1\n",
    "for i in range(166):\n",
    "    data = r_mmc_2021[i][12]\n",
    "    r_mmc_2021_zip[i] = data\n",
    "    \n",
    "\n",
    "\n",
    "r_mmc_2021_zip"
   ]
  },
  {
   "cell_type": "code",
   "execution_count": 18,
   "metadata": {},
   "outputs": [
    {
     "data": {
      "text/plain": [
       "0      B25088_001E\n",
       "1              848\n",
       "2             1209\n",
       "3              824\n",
       "4              793\n",
       "          ...     \n",
       "161            905\n",
       "162            514\n",
       "163            742\n",
       "164            942\n",
       "165            996\n",
       "Length: 166, dtype: object"
      ]
     },
     "execution_count": 18,
     "metadata": {},
     "output_type": "execute_result"
    }
   ],
   "source": [
    "r_mmc_2021_total = pd.Series()\n",
    "\n",
    "i = 1\n",
    "for i in range(166):\n",
    "    data = r_mmc_2021[i][0]\n",
    "    r_mmc_2021_total[i] = data\n",
    "    \n",
    "\n",
    "\n",
    "r_mmc_2021_total"
   ]
  },
  {
   "cell_type": "code",
   "execution_count": 19,
   "metadata": {},
   "outputs": [
    {
     "data": {
      "text/plain": [
       "0      B25088_002E\n",
       "1             1157\n",
       "2             1517\n",
       "3             1177\n",
       "4             1177\n",
       "          ...     \n",
       "161           1611\n",
       "162           1505\n",
       "163           1432\n",
       "164           1696\n",
       "165           1166\n",
       "Length: 166, dtype: object"
      ]
     },
     "execution_count": 19,
     "metadata": {},
     "output_type": "execute_result"
    }
   ],
   "source": [
    "r_mmc_2021_wMort = pd.Series()\n",
    "\n",
    "i = 1\n",
    "for i in range(166):\n",
    "    data = r_mmc_2021[i][4]\n",
    "    r_mmc_2021_wMort[i] = data\n",
    "    \n",
    "\n",
    "\n",
    "r_mmc_2021_wMort"
   ]
  },
  {
   "cell_type": "code",
   "execution_count": 20,
   "metadata": {},
   "outputs": [
    {
     "data": {
      "text/plain": [
       "0      B25088_003E\n",
       "1              459\n",
       "2              595\n",
       "3              452\n",
       "4              505\n",
       "          ...     \n",
       "161            481\n",
       "162            433\n",
       "163            541\n",
       "164            554\n",
       "165            742\n",
       "Length: 166, dtype: object"
      ]
     },
     "execution_count": 20,
     "metadata": {},
     "output_type": "execute_result"
    }
   ],
   "source": [
    "r_mmc_2021_woMort = pd.Series()\n",
    "\n",
    "i = 1\n",
    "for i in range(166):\n",
    "    data = r_mmc_2021[i][8]\n",
    "    r_mmc_2021_woMort[i] = data\n",
    "    \n",
    "\n",
    "\n",
    "r_mmc_2021_woMort"
   ]
  },
  {
   "cell_type": "code",
   "execution_count": 21,
   "metadata": {},
   "outputs": [
    {
     "data": {
      "text/html": [
       "<div>\n",
       "<style scoped>\n",
       "    .dataframe tbody tr th:only-of-type {\n",
       "        vertical-align: middle;\n",
       "    }\n",
       "\n",
       "    .dataframe tbody tr th {\n",
       "        vertical-align: top;\n",
       "    }\n",
       "\n",
       "    .dataframe thead th {\n",
       "        text-align: right;\n",
       "    }\n",
       "</style>\n",
       "<table border=\"1\" class=\"dataframe\">\n",
       "  <thead>\n",
       "    <tr style=\"text-align: right;\">\n",
       "      <th></th>\n",
       "      <th>Zip Code</th>\n",
       "      <th>2021 Total</th>\n",
       "      <th>2021 With Mortgage</th>\n",
       "      <th>2021 Without Mortgage</th>\n",
       "    </tr>\n",
       "  </thead>\n",
       "  <tbody>\n",
       "    <tr>\n",
       "      <th>1</th>\n",
       "      <td>76501</td>\n",
       "      <td>848</td>\n",
       "      <td>1157</td>\n",
       "      <td>459</td>\n",
       "    </tr>\n",
       "    <tr>\n",
       "      <th>2</th>\n",
       "      <td>76502</td>\n",
       "      <td>1209</td>\n",
       "      <td>1517</td>\n",
       "      <td>595</td>\n",
       "    </tr>\n",
       "    <tr>\n",
       "      <th>3</th>\n",
       "      <td>76504</td>\n",
       "      <td>824</td>\n",
       "      <td>1177</td>\n",
       "      <td>452</td>\n",
       "    </tr>\n",
       "    <tr>\n",
       "      <th>4</th>\n",
       "      <td>76511</td>\n",
       "      <td>793</td>\n",
       "      <td>1177</td>\n",
       "      <td>505</td>\n",
       "    </tr>\n",
       "    <tr>\n",
       "      <th>5</th>\n",
       "      <td>76513</td>\n",
       "      <td>1201</td>\n",
       "      <td>1636</td>\n",
       "      <td>547</td>\n",
       "    </tr>\n",
       "  </tbody>\n",
       "</table>\n",
       "</div>"
      ],
      "text/plain": [
       "  Zip Code 2021 Total 2021 With Mortgage 2021 Without Mortgage\n",
       "1    76501        848               1157                   459\n",
       "2    76502       1209               1517                   595\n",
       "3    76504        824               1177                   452\n",
       "4    76511        793               1177                   505\n",
       "5    76513       1201               1636                   547"
      ]
     },
     "execution_count": 21,
     "metadata": {},
     "output_type": "execute_result"
    }
   ],
   "source": [
    "med_month_cost_2021 = pd.DataFrame({\"Zip Code\" : r_mmc_2021_zip,\n",
    "                                    \"2021 Total\" : r_mmc_2021_total,\n",
    "                                    \"2021 With Mortgage\" : r_mmc_2021_wMort,\n",
    "                                    \"2021 Without Mortgage\":r_mmc_2021_woMort})\n",
    "\n",
    "med_month_cost_2021 = med_month_cost_2021.drop(index=0)\n",
    "med_month_cost_2021['Zip Code'] = med_month_cost_2021[\"Zip Code\"].str.replace('860Z200US', '')\n",
    "med_month_cost_2021.head()"
   ]
  },
  {
   "cell_type": "code",
   "execution_count": 22,
   "metadata": {},
   "outputs": [],
   "source": [
    "geocodes2 = \"8600000US76501,8600000US76502,8600000US76504,8600000US76511,8600000US76513,8600000US76518,8600000US76519,8600000US76520,8600000US76522,8600000US76524,8600000US76525,8600000US76527,8600000US76528,8600000US76530,8600000US76534,8600000US76537,8600000US76538,8600000US76539,8600000US76541,8600000US76542,8600000US76543,8600000US76544,8600000US76548,8600000US76549,8600000US76550,8600000US76554,8600000US76556,8600000US76557,8600000US76559,8600000US76561,8600000US76566,8600000US76567,8600000US76569,8600000US76570,8600000US76571,8600000US76574,8600000US76577,8600000US76578,8600000US76579,8600000US76624,8600000US76630,8600000US76632,8600000US76633,8600000US76638,8600000US76640,8600000US76643,8600000US76655,8600000US76656,8600000US76657,8600000US76661,8600000US76664,8600000US76680,8600000US76682,8600000US76685,8600000US76691,8600000US76701,8600000US76704,8600000US76705,8600000US76706,8600000US76707,8600000US76708,8600000US76710,8600000US76711,8600000US76712,8600000US76798,8600000US76831,8600000US76853,8600000US76885,8600000US77853,8600000US78602,8600000US78605,8600000US78606,8600000US78607,8600000US78608,8600000US78609,8600000US78610,8600000US78611,8600000US78612,8600000US78613,8600000US78615,8600000US78617,8600000US78618,8600000US78619,8600000US78620,8600000US78621,8600000US78624,8600000US78626,8600000US78628,8600000US78631,8600000US78633,8600000US78634,8600000US78635,8600000US78636,8600000US78639,8600000US78640,8600000US78641,8600000US78642,8600000US78643,8600000US78645,8600000US78650,8600000US78652,8600000US78653,8600000US78654,8600000US78657,8600000US78659,8600000US78660,8600000US78662,8600000US78663,8600000US78664,8600000US78665,8600000US78666,8600000US78669,8600000US78671,8600000US78672,8600000US78675,8600000US78676,8600000US78681,8600000US78701,8600000US78702,8600000US78703,8600000US78704,8600000US78705,8600000US78712,8600000US78717,8600000US78719,8600000US78721,8600000US78722,8600000US78723,8600000US78724,8600000US78725,8600000US78726,8600000US78727,8600000US78729,8600000US78730,8600000US78731,8600000US78732,8600000US78733,8600000US78734,8600000US78735,8600000US78736,8600000US78737,8600000US78738,8600000US78739,8600000US78741,8600000US78742,8600000US78744,8600000US78745,8600000US78746,8600000US78747,8600000US78748,8600000US78749,8600000US78750,8600000US78751,8600000US78752,8600000US78753,8600000US78754,8600000US78756,8600000US78757,8600000US78758,8600000US78759,8600000US78942,8600000US78946,8600000US78947,8600000US78948,8600000US78953\""
   ]
  },
  {
   "cell_type": "code",
   "execution_count": 23,
   "metadata": {},
   "outputs": [
    {
     "name": "stdout",
     "output_type": "stream",
     "text": [
      "[['B25088_001E', 'B25088_001EA', 'B25088_001M', 'B25088_001MA', 'B25088_002E', 'B25088_002EA', 'B25088_002M', 'B25088_002MA', 'B25088_003E', 'B25088_003EA', 'B25088_003M', 'B25088_003MA', 'GEO_ID', 'NAME', 'ucgid'], ['777', None, '73', None, '1138', None, '87', None, '456', None, '40', None, '8600000US76501', 'ZCTA5 76501', '8600000US76501'], ['1145', None, '60', None, '1442', None, '55', None, '561', None, '37', None, '8600000US76502', 'ZCTA5 76502', '8600000US76502'], ['807', None, '135', None, '1124', None, '53', None, '427', None, '30', None, '8600000US76504', 'ZCTA5 76504', '8600000US76504'], ['537', None, '197', None, '1125', None, '71', None, '360', None, '73', None, '8600000US76511', 'ZCTA5 76511', '8600000US76511'], ['1118', None, '71', None, '1535', None, '96', None, '531', None, '29', None, '8600000US76513', 'ZCTA5 76513', '8600000US76513'], ['440', None, '68', None, '1176', None, '213', None, '369', None, '28', None, '8600000US76518', 'ZCTA5 76518', '8600000US76518'], ['-666666666', '-', '-222222222', '**', '1985', None, '441', None, '526', None, '321', None, '8600000US76519', 'ZCTA5 76519', '8600000US76519'], ['615', None, '63', None, '1050', None, '117', None, '483', None, '51', None, '8600000US76520', 'ZCTA5 76520', '8600000US76520'], ['1001', None, '56', None, '1254', None, '50', None, '482', None, '22', None, '8600000US76522', 'ZCTA5 76522', '8600000US76522'], ['1017', None, '209', None, '1334', None, '120', None, '448', None, '42', None, '8600000US76524', 'ZCTA5 76524', '8600000US76524'], ['520', None, '123', None, '1095', None, '128', None, '390', None, '52', None, '8600000US76525', 'ZCTA5 76525', '8600000US76525'], ['1181', None, '445', None, '1818', None, '101', None, '571', None, '111', None, '8600000US76527', 'ZCTA5 76527', '8600000US76527'], ['670', None, '67', None, '1203', None, '53', None, '390', None, '29', None, '8600000US76528', 'ZCTA5 76528', '8600000US76528'], ['806', None, '143', None, '1334', None, '109', None, '475', None, '49', None, '8600000US76530', 'ZCTA5 76530', '8600000US76530'], ['870', None, '76', None, '1305', None, '165', None, '504', None, '62', None, '8600000US76534', 'ZCTA5 76534', '8600000US76534'], ['1446', None, '94', None, '1564', None, '67', None, '510', None, '81', None, '8600000US76537', 'ZCTA5 76537', '8600000US76537'], ['736', None, '149', None, '982', None, '413', None, '514', None, '74', None, '8600000US76538', 'ZCTA5 76538', '8600000US76538'], ['1243', None, '111', None, '1482', None, '81', None, '522', None, '77', None, '8600000US76539', 'ZCTA5 76539', '8600000US76539'], ['553', None, '121', None, '923', None, '126', None, '370', None, '29', None, '8600000US76541', 'ZCTA5 76541', '8600000US76541'], ['1247', None, '54', None, '1423', None, '51', None, '486', None, '36', None, '8600000US76542', 'ZCTA5 76542', '8600000US76542'], ['750', None, '126', None, '1062', None, '49', None, '410', None, '29', None, '8600000US76543', 'ZCTA5 76543', '8600000US76543'], ['-666666666', '-', '-222222222', '**', '-666666666', '-', '-222222222', '**', '512', None, '88', None, '8600000US76544', 'ZCTA5 76544', '8600000US76544'], ['1418', None, '106', None, '1638', None, '65', None, '578', None, '74', None, '8600000US76548', 'ZCTA5 76548', '8600000US76548'], ['1121', None, '51', None, '1264', None, '53', None, '459', None, '50', None, '8600000US76549', 'ZCTA5 76549', '8600000US76549'], ['839', None, '60', None, '1280', None, '135', None, '582', None, '53', None, '8600000US76550', 'ZCTA5 76550', '8600000US76550'], ['889', None, '118', None, '1095', None, '88', None, '410', None, '60', None, '8600000US76554', 'ZCTA5 76554', '8600000US76554'], ['531', None, '244', None, '1223', None, '155', None, '293', None, '41', None, '8600000US76556', 'ZCTA5 76556', '8600000US76556'], ['621', None, '242', None, '1535', None, '453', None, '366', None, '90', None, '8600000US76557', 'ZCTA5 76557', '8600000US76557'], ['1285', None, '109', None, '1384', None, '72', None, '431', None, '269', None, '8600000US76559', 'ZCTA5 76559', '8600000US76559'], ['766', None, '121', None, '957', None, '55', None, '425', None, '45', None, '8600000US76561', 'ZCTA5 76561', '8600000US76561'], ['557', None, '168', None, '-666666666', '-', '-222222222', '**', '497', None, '84', None, '8600000US76566', 'ZCTA5 76566', '8600000US76566'], ['738', None, '71', None, '1138', None, '62', None, '419', None, '63', None, '8600000US76567', 'ZCTA5 76567', '8600000US76567'], ['644', None, '122', None, '1129', None, '153', None, '347', None, '62', None, '8600000US76569', 'ZCTA5 76569', '8600000US76569'], ['528', None, '144', None, '1543', None, '311', None, '332', None, '62', None, '8600000US76570', 'ZCTA5 76570', '8600000US76570'], ['1371', None, '208', None, '1925', None, '145', None, '660', None, '35', None, '8600000US76571', 'ZCTA5 76571', '8600000US76571'], ['1076', None, '104', None, '1564', None, '78', None, '577', None, '31', None, '8600000US76574', 'ZCTA5 76574', '8600000US76574'], ['760', None, '107', None, '1230', None, '223', None, '376', None, '91', None, '8600000US76577', 'ZCTA5 76577', '8600000US76577'], ['792', None, '92', None, '1591', None, '526', None, '540', None, '87', None, '8600000US76578', 'ZCTA5 76578', '8600000US76578'], ['763', None, '117', None, '1115', None, '112', None, '424', None, '48', None, '8600000US76579', 'ZCTA5 76579', '8600000US76579'], ['692', None, '191', None, '1243', None, '384', None, '395', None, '72', None, '8600000US76624', 'ZCTA5 76624', '8600000US76624'], ['669', None, '299', None, '1362', None, '132', None, '445', None, '50', None, '8600000US76630', 'ZCTA5 76630', '8600000US76630'], ['419', None, '55', None, '1375', None, '143', None, '359', None, '85', None, '8600000US76632', 'ZCTA5 76632', '8600000US76632'], ['1173', None, '355', None, '1604', None, '292', None, '683', None, '79', None, '8600000US76633', 'ZCTA5 76633', '8600000US76633'], ['976', None, '187', None, '2109', None, '252', None, '571', None, '83', None, '8600000US76638', 'ZCTA5 76638', '8600000US76638'], ['723', None, '131', None, '1037', None, '184', None, '406', None, '91', None, '8600000US76640', 'ZCTA5 76640', '8600000US76640'], ['1141', None, '123', None, '1487', None, '74', None, '619', None, '43', None, '8600000US76643', 'ZCTA5 76643', '8600000US76643'], ['1298', None, '130', None, '1731', None, '124', None, '559', None, '70', None, '8600000US76655', 'ZCTA5 76655', '8600000US76655'], ['829', None, '208', None, '1350', None, '108', None, '345', None, '35', None, '8600000US76656', 'ZCTA5 76656', '8600000US76656'], ['1323', None, '92', None, '1858', None, '376', None, '641', None, '231', None, '8600000US76657', 'ZCTA5 76657', '8600000US76657'], ['613', None, '196', None, '901', None, '108', None, '410', None, '43', None, '8600000US76661', 'ZCTA5 76661', '8600000US76661'], ['714', None, '109', None, '1240', None, '180', None, '458', None, '71', None, '8600000US76664', 'ZCTA5 76664', '8600000US76664'], ['396', None, '285', None, '-666666666', '-', '-222222222', '**', '314', None, '31', None, '8600000US76680', 'ZCTA5 76680', '8600000US76680'], ['584', None, '157', None, '1166', None, '173', None, '410', None, '52', None, '8600000US76682', 'ZCTA5 76682', '8600000US76682'], ['363', None, '305', None, '-666666666', '-', '-222222222', '**', '381', None, '377', None, '8600000US76685', 'ZCTA5 76685', '8600000US76685'], ['756', None, '149', None, '1559', None, '236', None, '462', None, '59', None, '8600000US76691', 'ZCTA5 76691', '8600000US76691'], ['757', None, '267', None, '1847', None, '216', None, '608', None, '220', None, '8600000US76701', 'ZCTA5 76701', '8600000US76701'], ['643', None, '84', None, '941', None, '117', None, '433', None, '52', None, '8600000US76704', 'ZCTA5 76704', '8600000US76704'], ['765', None, '91', None, '1119', None, '53', None, '454', None, '42', None, '8600000US76705', 'ZCTA5 76705', '8600000US76705'], ['797', None, '90', None, '1403', None, '93', None, '522', None, '33', None, '8600000US76706', 'ZCTA5 76706', '8600000US76706'], ['612', None, '92', None, '895', None, '69', None, '421', None, '32', None, '8600000US76707', 'ZCTA5 76707', '8600000US76707'], ['875', None, '116', None, '1383', None, '60', None, '480', None, '34', None, '8600000US76708', 'ZCTA5 76708', '8600000US76708'], ['961', None, '125', None, '1402', None, '74', None, '607', None, '44', None, '8600000US76710', 'ZCTA5 76710', '8600000US76710'], ['494', None, '112', None, '1010', None, '124', None, '363', None, '33', None, '8600000US76711', 'ZCTA5 76711', '8600000US76711'], ['1312', None, '73', None, '1629', None, '57', None, '719', None, '37', None, '8600000US76712', 'ZCTA5 76712', '8600000US76712'], ['-666666666', '-', '-222222222', '**', '-666666666', '-', '-222222222', '**', '-666666666', '-', '-222222222', '**', '8600000US76798', 'ZCTA5 76798', '8600000US76798'], ['-666666666', '-', '-222222222', '**', '-666666666', '-', '-222222222', '**', '-666666666', '-', '-222222222', '**', '8600000US76831', 'ZCTA5 76831', '8600000US76831'], ['660', None, '101', None, '1131', None, '131', None, '474', None, '110', None, '8600000US76853', 'ZCTA5 76853', '8600000US76853'], ['-666666666', '-', '-222222222', '**', '-666666666', '-', '-222222222', '**', '297', None, '166', None, '8600000US76885', 'ZCTA5 76885', '8600000US76885'], ['578', None, '124', None, '1073', None, '172', None, '494', None, '79', None, '8600000US77853', 'ZCTA5 77853', '8600000US77853'], ['1087', None, '137', None, '1448', None, '58', None, '608', None, '67', None, '8600000US78602', 'ZCTA5 78602', '8600000US78602'], ['636', None, '291', None, '1339', None, '251', None, '330', None, '76', None, '8600000US78605', 'ZCTA5 78605', '8600000US78605'], ['937', None, '264', None, '1723', None, '381', None, '530', None, '118', None, '8600000US78606', 'ZCTA5 78606', '8600000US78606'], ['-666666666', '-', '-222222222', '**', '-666666666', '-', '-222222222', '**', '-666666666', '-', '-222222222', '**', '8600000US78607', 'ZCTA5 78607', '8600000US78607'], ['-666666666', '-', '-222222222', '**', '1559', None, '468', None, '294', None, '188', None, '8600000US78608', 'ZCTA5 78608', '8600000US78608'], ['722', None, '109', None, '1643', None, '582', None, '500', None, '105', None, '8600000US78609', 'ZCTA5 78609', '8600000US78609'], ['1671', None, '126', None, '1939', None, '58', None, '806', None, '72', None, '8600000US78610', 'ZCTA5 78610', '8600000US78610'], ['833', None, '196', None, '1569', None, '169', None, '542', None, '79', None, '8600000US78611', 'ZCTA5 78611', '8600000US78611'], ['1146', None, '159', None, '1590', None, '123', None, '560', None, '105', None, '8600000US78612', 'ZCTA5 78612', '8600000US78612'], ['1861', None, '54', None, '2162', None, '65', None, '808', None, '50', None, '8600000US78613', 'ZCTA5 78613', '8600000US78613'], ['1226', None, '375', None, '1535', None, '306', None, '547', None, '184', None, '8600000US78615', 'ZCTA5 78615', '8600000US78615'], ['1065', None, '128', None, '1400', None, '85', None, '592', None, '100', None, '8600000US78617', 'ZCTA5 78617', '8600000US78617'], ['493', None, '156', None, '1617', None, '104', None, '451', None, '35', None, '8600000US78618', 'ZCTA5 78618', '8600000US78618'], ['2280', None, '816', None, '3081', None, '278', None, '758', None, '145', None, '8600000US78619', 'ZCTA5 78619', '8600000US78619'], ['1844', None, '215', None, '2510', None, '177', None, '821', None, '117', None, '8600000US78620', 'ZCTA5 78620', '8600000US78620'], ['1021', None, '128', None, '1466', None, '110', None, '508', None, '57', None, '8600000US78621', 'ZCTA5 78621', '8600000US78621'], ['813', None, '86', None, '1691', None, '122', None, '591', None, '44', None, '8600000US78624', 'ZCTA5 78624', '8600000US78624'], ['1517', None, '92', None, '1769', None, '77', None, '666', None, '55', None, '8600000US78626', 'ZCTA5 78626', '8600000US78626'], ['1790', None, '94', None, '2247', None, '93', None, '790', None, '39', None, '8600000US78628', 'ZCTA5 78628', '8600000US78628'], ['793', None, '347', None, '1618', None, '196', None, '396', None, '54', None, '8600000US78631', 'ZCTA5 78631', '8600000US78631'], ['1069', None, '77', None, '1911', None, '58', None, '743', None, '31', None, '8600000US78633', 'ZCTA5 78633', '8600000US78633'], ['1634', None, '70', None, '1758', None, '70', None, '623', None, '69', None, '8600000US78634', 'ZCTA5 78634', '8600000US78634'], ['-666666666', '-', '-222222222', '**', '-666666666', '-', '-222222222', '**', '209', None, '35', None, '8600000US78635', 'ZCTA5 78635', '8600000US78635'], ['677', None, '104', None, '1317', None, '209', None, '492', None, '101', None, '8600000US78636', 'ZCTA5 78636', '8600000US78636'], ['856', None, '57', None, '1165', None, '128', None, '536', None, '124', None, '8600000US78639', 'ZCTA5 78639', '8600000US78639'], ['1453', None, '57', None, '1655', None, '40', None, '608', None, '50', None, '8600000US78640', 'ZCTA5 78640', '8600000US78640'], ['1759', None, '63', None, '2015', None, '82', None, '760', None, '46', None, '8600000US78641', 'ZCTA5 78641', '8600000US78641'], ['1470', None, '144', None, '2110', None, '145', None, '640', None, '138', None, '8600000US78642', 'ZCTA5 78642', '8600000US78642'], ['812', None, '95', None, '1347', None, '254', None, '459', None, '43', None, '8600000US78643', 'ZCTA5 78643', '8600000US78643'], ['1331', None, '205', None, '1841', None, '192', None, '719', None, '92', None, '8600000US78645', 'ZCTA5 78645', '8600000US78645'], ['738', None, '69', None, '1149', None, '97', None, '633', None, '227', None, '8600000US78650', 'ZCTA5 78650', '8600000US78650'], ['1760', None, '196', None, '2103', None, '129', None, '601', None, '87', None, '8600000US78652', 'ZCTA5 78652', '8600000US78652'], ['1572', None, '129', None, '1712', None, '125', None, '610', None, '72', None, '8600000US78653', 'ZCTA5 78653', '8600000US78653'], ['913', None, '76', None, '1534', None, '127', None, '576', None, '41', None, '8600000US78654', 'ZCTA5 78654', '8600000US78654'], ['1067', None, '98', None, '1425', None, '123', None, '691', None, '95', None, '8600000US78657', 'ZCTA5 78657', '8600000US78657'], ['645', None, '342', None, '1612', None, '77', None, '454', None, '32', None, '8600000US78659', 'ZCTA5 78659', '8600000US78659'], ['1640', None, '56', None, '1846', None, '63', None, '758', None, '54', None, '8600000US78660', 'ZCTA5 78660', '8600000US78660'], ['738', None, '350', None, '1423', None, '437', None, '343', None, '236', None, '8600000US78662', 'ZCTA5 78662', '8600000US78662'], ['-666666666', '-', '-222222222', '**', '1755', None, '393', None, '703', None, '250', None, '8600000US78663', 'ZCTA5 78663', '8600000US78663'], ['1536', None, '47', None, '1657', None, '38', None, '668', None, '47', None, '8600000US78664', 'ZCTA5 78664', '8600000US78664'], ['1831', None, '70', None, '2033', None, '89', None, '820', None, '76', None, '8600000US78665', 'ZCTA5 78665', '8600000US78665'], ['1018', None, '98', None, '1500', None, '95', None, '519', None, '37', None, '8600000US78666', 'ZCTA5 78666', '8600000US78666'], ['2164', None, '245', None, '2733', None, '206', None, '811', None, '140', None, '8600000US78669', 'ZCTA5 78669', '8600000US78669'], ['782', None, '546', None, '1263', None, '213', None, '513', None, '97', None, '8600000US78671', 'ZCTA5 78671', '8600000US78671'], ['715', None, '146', None, '988', None, '247', None, '368', None, '167', None, '8600000US78672', 'ZCTA5 78672', '8600000US78672'], ['850', None, '656', None, '-666666666', '-', '-222222222', '**', '521', None, '204', None, '8600000US78675', 'ZCTA5 78675', '8600000US78675'], ['1309', None, '145', None, '1852', None, '171', None, '744', None, '106', None, '8600000US78676', 'ZCTA5 78676', '8600000US78676'], ['1890', None, '103', None, '2214', None, '53', None, '799', None, '56', None, '8600000US78681', 'ZCTA5 78681', '8600000US78681'], ['2865', None, '285', None, '3250', None, '256', None, '1501', '1,500+', '-333333333', '***', '8600000US78701', 'ZCTA5 78701', '8600000US78701'], ['1657', None, '212', None, '2381', None, '180', None, '769', None, '49', None, '8600000US78702', 'ZCTA5 78702', '8600000US78702'], ['2898', None, '236', None, '3941', None, '194', None, '1501', '1,500+', '-333333333', '***', '8600000US78703', 'ZCTA5 78703', '8600000US78703'], ['2178', None, '134', None, '2893', None, '126', None, '1091', None, '69', None, '8600000US78704', 'ZCTA5 78704', '8600000US78704'], ['1537', None, '363', None, '2541', None, '304', None, '895', None, '270', None, '8600000US78705', 'ZCTA5 78705', '8600000US78705'], ['-666666666', '-', '-222222222', '**', '-666666666', '-', '-222222222', '**', '-666666666', '-', '-222222222', '**', '8600000US78712', 'ZCTA5 78712', '8600000US78712'], ['2260', None, '136', None, '2647', None, '118', None, '1034', None, '107', None, '8600000US78717', 'ZCTA5 78717', '8600000US78717'], ['961', None, '168', None, '1318', None, '89', None, '485', None, '74', None, '8600000US78719', 'ZCTA5 78719', '8600000US78719'], ['1211', None, '124', None, '1710', None, '216', None, '584', None, '72', None, '8600000US78721', 'ZCTA5 78721', '8600000US78721'], ['1790', None, '222', None, '2503', None, '283', None, '850', None, '78', None, '8600000US78722', 'ZCTA5 78722', '8600000US78722'], ['1747', None, '103', None, '2162', None, '120', None, '744', None, '67', None, '8600000US78723', 'ZCTA5 78723', '8600000US78723'], ['981', None, '72', None, '1360', None, '56', None, '556', None, '126', None, '8600000US78724', 'ZCTA5 78724', '8600000US78724'], ['1250', None, '179', None, '1450', None, '107', None, '566', None, '136', None, '8600000US78725', 'ZCTA5 78725', '8600000US78725'], ['2819', None, '410', None, '3117', None, '129', None, '887', None, '219', None, '8600000US78726', 'ZCTA5 78726', '8600000US78726'], ['1615', None, '79', None, '1942', None, '70', None, '807', None, '65', None, '8600000US78727', 'ZCTA5 78727', '8600000US78727'], ['1721', None, '99', None, '1922', None, '70', None, '700', None, '64', None, '8600000US78729', 'ZCTA5 78729', '8600000US78729'], ['3529', None, '841', None, '4001', '4,000+', '-333333333', '***', '1501', '1,500+', '-333333333', '***', '8600000US78730', 'ZCTA5 78730', '8600000US78730'], ['2201', None, '172', None, '3442', None, '176', None, '1126', None, '113', None, '8600000US78731', 'ZCTA5 78731', '8600000US78731'], ['2953', None, '227', None, '3384', None, '303', None, '1248', None, '300', None, '8600000US78732', 'ZCTA5 78732', '8600000US78732'], ['2623', None, '337', None, '3283', None, '231', None, '1240', None, '326', None, '8600000US78733', 'ZCTA5 78733', '8600000US78733'], ['2115', None, '134', None, '2459', None, '138', None, '988', None, '77', None, '8600000US78734', 'ZCTA5 78734', '8600000US78734'], ['2451', None, '292', None, '3105', None, '223', None, '1120', None, '118', None, '8600000US78735', 'ZCTA5 78735', '8600000US78735'], ['1678', None, '282', None, '2489', None, '431', None, '656', None, '84', None, '8600000US78736', 'ZCTA5 78736', '8600000US78736'], ['2590', None, '175', None, '2969', None, '147', None, '1015', None, '68', None, '8600000US78737', 'ZCTA5 78737', '8600000US78737'], ['2579', None, '140', None, '2954', None, '163', None, '1170', None, '89', None, '8600000US78738', 'ZCTA5 78738', '8600000US78738'], ['2539', None, '134', None, '2903', None, '111', None, '1058', None, '42', None, '8600000US78739', 'ZCTA5 78739', '8600000US78739'], ['1180', None, '205', None, '1786', None, '118', None, '473', None, '50', None, '8600000US78741', 'ZCTA5 78741', '8600000US78741'], ['432', None, '338', None, '1848', None, '319', None, '263', None, '233', None, '8600000US78742', 'ZCTA5 78742', '8600000US78742'], ['1153', None, '93', None, '1412', None, '72', None, '606', None, '53', None, '8600000US78744', 'ZCTA5 78744', '8600000US78744'], ['1381', None, '69', None, '1773', None, '75', None, '648', None, '32', None, '8600000US78745', 'ZCTA5 78745', '8600000US78745'], ['3133', None, '194', None, '4001', '4,000+', '-333333333', '***', '1501', '1,500+', '-333333333', '***', '8600000US78746', 'ZCTA5 78746', '8600000US78746'], ['1383', None, '65', None, '1567', None, '114', None, '692', None, '85', None, '8600000US78747', 'ZCTA5 78747', '8600000US78747'], ['1614', None, '72', None, '1814', None, '82', None, '733', None, '51', None, '8600000US78748', 'ZCTA5 78748', '8600000US78748'], ['1765', None, '82', None, '2029', None, '111', None, '866', None, '37', None, '8600000US78749', 'ZCTA5 78749', '8600000US78749'], ['1730', None, '87', None, '2360', None, '112', None, '1048', None, '76', None, '8600000US78750', 'ZCTA5 78750', '8600000US78750'], ['2222', None, '208', None, '2819', None, '203', None, '906', None, '157', None, '8600000US78751', 'ZCTA5 78751', '8600000US78751'], ['1394', None, '180', None, '1954', None, '239', None, '542', None, '47', None, '8600000US78752', 'ZCTA5 78752', '8600000US78752'], ['1305', None, '95', None, '1638', None, '81', None, '674', None, '92', None, '8600000US78753', 'ZCTA5 78753', '8600000US78753'], ['1499', None, '158', None, '1729', None, '68', None, '601', None, '301', None, '8600000US78754', 'ZCTA5 78754', '8600000US78754'], ['2007', None, '235', None, '2930', None, '477', None, '1217', None, '108', None, '8600000US78756', 'ZCTA5 78756', '8600000US78756'], ['1655', None, '245', None, '2401', None, '178', None, '827', None, '120', None, '8600000US78757', 'ZCTA5 78757', '8600000US78757'], ['1321', None, '93', None, '1654', None, '67', None, '614', None, '49', None, '8600000US78758', 'ZCTA5 78758', '8600000US78758'], ['1769', None, '128', None, '2532', None, '147', None, '862', None, '74', None, '8600000US78759', 'ZCTA5 78759', '8600000US78759'], ['777', None, '89', None, '1313', None, '191', None, '510', None, '88', None, '8600000US78942', 'ZCTA5 78942', '8600000US78942'], ['534', None, '86', None, '1467', None, '167', None, '468', None, '86', None, '8600000US78946', 'ZCTA5 78946', '8600000US78946'], ['687', None, '214', None, '1515', None, '220', None, '485', None, '64', None, '8600000US78947', 'ZCTA5 78947', '8600000US78947'], ['564', None, '78', None, '1575', None, '702', None, '546', None, '106', None, '8600000US78948', 'ZCTA5 78948', '8600000US78948'], ['964', None, '407', None, '1258', None, '268', None, '536', None, '275', None, '8600000US78953', 'ZCTA5 78953', '8600000US78953']]\n"
     ]
    }
   ],
   "source": [
    "mmc_2020_url = \"https://api.census.gov/data/2020/acs/acs5?get=group(B25088)&ucgid=\" + geocodes2\n",
    "r_mmc_2020 = requests.get(mmc_2020_url).json()\n",
    "\n",
    "print(r_mmc_2020)"
   ]
  },
  {
   "cell_type": "code",
   "execution_count": 24,
   "metadata": {},
   "outputs": [
    {
     "data": {
      "text/plain": [
       "0              GEO_ID\n",
       "1      8600000US76501\n",
       "2      8600000US76502\n",
       "3      8600000US76504\n",
       "4      8600000US76511\n",
       "            ...      \n",
       "161    8600000US78942\n",
       "162    8600000US78946\n",
       "163    8600000US78947\n",
       "164    8600000US78948\n",
       "165    8600000US78953\n",
       "Length: 166, dtype: object"
      ]
     },
     "execution_count": 24,
     "metadata": {},
     "output_type": "execute_result"
    }
   ],
   "source": [
    "r_mmc_2020_zip = pd.Series()\n",
    "\n",
    "i = 1\n",
    "for i in range(166):\n",
    "    data = r_mmc_2020[i][12]\n",
    "    r_mmc_2020_zip[i] = data\n",
    "    \n",
    "\n",
    "\n",
    "r_mmc_2020_zip"
   ]
  },
  {
   "cell_type": "code",
   "execution_count": 25,
   "metadata": {},
   "outputs": [
    {
     "data": {
      "text/plain": [
       "0      B25088_001E\n",
       "1              777\n",
       "2             1145\n",
       "3              807\n",
       "4              537\n",
       "          ...     \n",
       "161            777\n",
       "162            534\n",
       "163            687\n",
       "164            564\n",
       "165            964\n",
       "Length: 166, dtype: object"
      ]
     },
     "execution_count": 25,
     "metadata": {},
     "output_type": "execute_result"
    }
   ],
   "source": [
    "r_mmc_2020_total = pd.Series()\n",
    "\n",
    "i = 1\n",
    "for i in range(166):\n",
    "    data = r_mmc_2020[i][0]\n",
    "    r_mmc_2020_total[i] = data\n",
    "    \n",
    "\n",
    "\n",
    "r_mmc_2020_total"
   ]
  },
  {
   "cell_type": "code",
   "execution_count": 26,
   "metadata": {},
   "outputs": [
    {
     "data": {
      "text/plain": [
       "0      B25088_002E\n",
       "1             1138\n",
       "2             1442\n",
       "3             1124\n",
       "4             1125\n",
       "          ...     \n",
       "161           1313\n",
       "162           1467\n",
       "163           1515\n",
       "164           1575\n",
       "165           1258\n",
       "Length: 166, dtype: object"
      ]
     },
     "execution_count": 26,
     "metadata": {},
     "output_type": "execute_result"
    }
   ],
   "source": [
    "r_mmc_2020_wMort = pd.Series()\n",
    "\n",
    "i = 1\n",
    "for i in range(166):\n",
    "    data = r_mmc_2020[i][4]\n",
    "    r_mmc_2020_wMort[i] = data\n",
    "    \n",
    "\n",
    "\n",
    "r_mmc_2020_wMort"
   ]
  },
  {
   "cell_type": "code",
   "execution_count": 27,
   "metadata": {},
   "outputs": [
    {
     "data": {
      "text/plain": [
       "0      B25088_003E\n",
       "1              456\n",
       "2              561\n",
       "3              427\n",
       "4              360\n",
       "          ...     \n",
       "161            510\n",
       "162            468\n",
       "163            485\n",
       "164            546\n",
       "165            536\n",
       "Length: 166, dtype: object"
      ]
     },
     "execution_count": 27,
     "metadata": {},
     "output_type": "execute_result"
    }
   ],
   "source": [
    "r_mmc_2020_woMort = pd.Series()\n",
    "\n",
    "i = 1\n",
    "for i in range(166):\n",
    "    data = r_mmc_2020[i][8]\n",
    "    r_mmc_2020_woMort[i] = data\n",
    "    \n",
    "\n",
    "\n",
    "r_mmc_2020_woMort"
   ]
  },
  {
   "cell_type": "code",
   "execution_count": 28,
   "metadata": {},
   "outputs": [
    {
     "data": {
      "text/html": [
       "<div>\n",
       "<style scoped>\n",
       "    .dataframe tbody tr th:only-of-type {\n",
       "        vertical-align: middle;\n",
       "    }\n",
       "\n",
       "    .dataframe tbody tr th {\n",
       "        vertical-align: top;\n",
       "    }\n",
       "\n",
       "    .dataframe thead th {\n",
       "        text-align: right;\n",
       "    }\n",
       "</style>\n",
       "<table border=\"1\" class=\"dataframe\">\n",
       "  <thead>\n",
       "    <tr style=\"text-align: right;\">\n",
       "      <th></th>\n",
       "      <th>Zip Code</th>\n",
       "      <th>2020 Total</th>\n",
       "      <th>2020 With Mortgage</th>\n",
       "      <th>2020 Without Mortgage</th>\n",
       "    </tr>\n",
       "  </thead>\n",
       "  <tbody>\n",
       "    <tr>\n",
       "      <th>1</th>\n",
       "      <td>76501</td>\n",
       "      <td>777</td>\n",
       "      <td>1138</td>\n",
       "      <td>456</td>\n",
       "    </tr>\n",
       "    <tr>\n",
       "      <th>2</th>\n",
       "      <td>76502</td>\n",
       "      <td>1145</td>\n",
       "      <td>1442</td>\n",
       "      <td>561</td>\n",
       "    </tr>\n",
       "    <tr>\n",
       "      <th>3</th>\n",
       "      <td>76504</td>\n",
       "      <td>807</td>\n",
       "      <td>1124</td>\n",
       "      <td>427</td>\n",
       "    </tr>\n",
       "    <tr>\n",
       "      <th>4</th>\n",
       "      <td>76511</td>\n",
       "      <td>537</td>\n",
       "      <td>1125</td>\n",
       "      <td>360</td>\n",
       "    </tr>\n",
       "    <tr>\n",
       "      <th>5</th>\n",
       "      <td>76513</td>\n",
       "      <td>1118</td>\n",
       "      <td>1535</td>\n",
       "      <td>531</td>\n",
       "    </tr>\n",
       "  </tbody>\n",
       "</table>\n",
       "</div>"
      ],
      "text/plain": [
       "  Zip Code 2020 Total 2020 With Mortgage 2020 Without Mortgage\n",
       "1    76501        777               1138                   456\n",
       "2    76502       1145               1442                   561\n",
       "3    76504        807               1124                   427\n",
       "4    76511        537               1125                   360\n",
       "5    76513       1118               1535                   531"
      ]
     },
     "execution_count": 28,
     "metadata": {},
     "output_type": "execute_result"
    }
   ],
   "source": [
    "med_month_cost_2020 = pd.DataFrame({\"Zip Code\" : r_mmc_2020_zip,\n",
    "                                    \"2020 Total\" : r_mmc_2020_total,\n",
    "                                    \"2020 With Mortgage\" : r_mmc_2020_wMort,\n",
    "                                    \"2020 Without Mortgage\":r_mmc_2020_woMort})\n",
    "\n",
    "med_month_cost_2020 = med_month_cost_2020.drop(index=0)\n",
    "med_month_cost_2020['Zip Code'] = med_month_cost_2020[\"Zip Code\"].str.replace('8600000US', '')\n",
    "med_month_cost_2020.head()"
   ]
  },
  {
   "cell_type": "code",
   "execution_count": 29,
   "metadata": {},
   "outputs": [
    {
     "name": "stdout",
     "output_type": "stream",
     "text": [
      "[['B25088_001E', 'B25088_001EA', 'B25088_001M', 'B25088_001MA', 'B25088_002E', 'B25088_002EA', 'B25088_002M', 'B25088_002MA', 'B25088_003E', 'B25088_003EA', 'B25088_003M', 'B25088_003MA', 'GEO_ID', 'NAME', 'ucgid'], ['783', None, '80', None, '1134', None, '64', None, '474', None, '28', None, '8600000US76501', 'ZCTA5 76501', '8600000US76501'], ['1143', None, '52', None, '1430', None, '53', None, '556', None, '26', None, '8600000US76502', 'ZCTA5 76502', '8600000US76502'], ['771', None, '80', None, '1113', None, '45', None, '425', None, '34', None, '8600000US76504', 'ZCTA5 76504', '8600000US76504'], ['520', None, '122', None, '1110', None, '89', None, '367', None, '79', None, '8600000US76511', 'ZCTA5 76511', '8600000US76511'], ['1067', None, '63', None, '1526', None, '97', None, '539', None, '38', None, '8600000US76513', 'ZCTA5 76513', '8600000US76513'], ['435', None, '55', None, '1414', None, '296', None, '377', None, '43', None, '8600000US76518', 'ZCTA5 76518', '8600000US76518'], ['658', None, '571', None, '-666666666', '-', '-222222222', '**', '375', None, '204', None, '8600000US76519', 'ZCTA5 76519', '8600000US76519'], ['629', None, '49', None, '976', None, '132', None, '513', None, '65', None, '8600000US76520', 'ZCTA5 76520', '8600000US76520'], ['953', None, '58', None, '1219', None, '41', None, '485', None, '22', None, '8600000US76522', 'ZCTA5 76522', '8600000US76522'], ['929', None, '235', None, '1198', None, '136', None, '452', None, '38', None, '8600000US76524', 'ZCTA5 76524', '8600000US76524'], ['521', None, '84', None, '1072', None, '155', None, '395', None, '67', None, '8600000US76525', 'ZCTA5 76525', '8600000US76525'], ['864', None, '224', None, '1493', None, '299', None, '532', None, '63', None, '8600000US76527', 'ZCTA5 76527', '8600000US76527'], ['656', None, '54', None, '1127', None, '70', None, '378', None, '26', None, '8600000US76528', 'ZCTA5 76528', '8600000US76528'], ['772', None, '129', None, '1356', None, '122', None, '471', None, '34', None, '8600000US76530', 'ZCTA5 76530', '8600000US76530'], ['832', None, '248', None, '1429', None, '155', None, '527', None, '47', None, '8600000US76534', 'ZCTA5 76534', '8600000US76534'], ['1342', None, '71', None, '1453', None, '65', None, '552', None, '46', None, '8600000US76537', 'ZCTA5 76537', '8600000US76537'], ['660', None, '121', None, '1288', None, '339', None, '545', None, '41', None, '8600000US76538', 'ZCTA5 76538', '8600000US76538'], ['1196', None, '132', None, '1435', None, '78', None, '530', None, '66', None, '8600000US76539', 'ZCTA5 76539', '8600000US76539'], ['568', None, '77', None, '948', None, '136', None, '376', None, '34', None, '8600000US76541', 'ZCTA5 76541', '8600000US76541'], ['1227', None, '45', None, '1405', None, '42', None, '493', None, '31', None, '8600000US76542', 'ZCTA5 76542', '8600000US76542'], ['841', None, '42', None, '1071', None, '41', None, '396', None, '17', None, '8600000US76543', 'ZCTA5 76543', '8600000US76543'], ['555', None, '367', None, '-666666666', '-', '-222222222', '**', '491', None, '67', None, '8600000US76544', 'ZCTA5 76544', '8600000US76544'], ['1478', None, '101', None, '1707', None, '61', None, '557', None, '38', None, '8600000US76548', 'ZCTA5 76548', '8600000US76548'], ['1167', None, '33', None, '1285', None, '42', None, '472', None, '33', None, '8600000US76549', 'ZCTA5 76549', '8600000US76549'], ['807', None, '96', None, '1419', None, '231', None, '553', None, '62', None, '8600000US76550', 'ZCTA5 76550', '8600000US76550'], ['901', None, '71', None, '1045', None, '83', None, '396', None, '53', None, '8600000US76554', 'ZCTA5 76554', '8600000US76554'], ['633', None, '182', None, '1319', None, '255', None, '344', None, '53', None, '8600000US76556', 'ZCTA5 76556', '8600000US76556'], ['580', None, '84', None, '1208', None, '118', None, '412', None, '57', None, '8600000US76557', 'ZCTA5 76557', '8600000US76557'], ['1218', None, '125', None, '1387', None, '86', None, '401', None, '223', None, '8600000US76559', 'ZCTA5 76559', '8600000US76559'], ['737', None, '78', None, '963', None, '137', None, '417', None, '54', None, '8600000US76561', 'ZCTA5 76561', '8600000US76561'], ['564', None, '431', None, '1375', None, '149', None, '404', None, '240', None, '8600000US76566', 'ZCTA5 76566', '8600000US76566'], ['689', None, '115', None, '1068', None, '84', None, '395', None, '40', None, '8600000US76567', 'ZCTA5 76567', '8600000US76567'], ['790', None, '200', None, '1273', None, '188', None, '463', None, '133', None, '8600000US76569', 'ZCTA5 76569', '8600000US76569'], ['441', None, '80', None, '1371', None, '280', None, '351', None, '38', None, '8600000US76570', 'ZCTA5 76570', '8600000US76570'], ['1370', None, '124', None, '1789', None, '159', None, '638', None, '62', None, '8600000US76571', 'ZCTA5 76571', '8600000US76571'], ['1021', None, '103', None, '1463', None, '67', None, '577', None, '28', None, '8600000US76574', 'ZCTA5 76574', '8600000US76574'], ['646', None, '130', None, '1385', None, '126', None, '394', None, '77', None, '8600000US76577', 'ZCTA5 76577', '8600000US76577'], ['777', None, '123', None, '1402', None, '366', None, '478', None, '71', None, '8600000US76578', 'ZCTA5 76578', '8600000US76578'], ['767', None, '186', None, '1189', None, '140', None, '417', None, '44', None, '8600000US76579', 'ZCTA5 76579', '8600000US76579'], ['729', None, '216', None, '1297', None, '139', None, '380', None, '44', None, '8600000US76624', 'ZCTA5 76624', '8600000US76624'], ['1000', None, '361', None, '1425', None, '182', None, '458', None, '35', None, '8600000US76630', 'ZCTA5 76630', '8600000US76630'], ['451', None, '75', None, '1208', None, '224', None, '369', None, '56', None, '8600000US76632', 'ZCTA5 76632', '8600000US76632'], ['922', None, '131', None, '1619', None, '178', None, '640', None, '60', None, '8600000US76633', 'ZCTA5 76633', '8600000US76633'], ['956', None, '157', None, '1935', None, '372', None, '578', None, '85', None, '8600000US76638', 'ZCTA5 76638', '8600000US76638'], ['656', None, '307', None, '1087', None, '144', None, '368', None, '68', None, '8600000US76640', 'ZCTA5 76640', '8600000US76640'], ['1120', None, '97', None, '1476', None, '70', None, '585', None, '43', None, '8600000US76643', 'ZCTA5 76643', '8600000US76643'], ['1242', None, '148', None, '1788', None, '100', None, '594', None, '54', None, '8600000US76655', 'ZCTA5 76655', '8600000US76655'], ['729', None, '138', None, '1288', None, '120', None, '370', None, '29', None, '8600000US76656', 'ZCTA5 76656', '8600000US76656'], ['1188', None, '131', None, '1710', None, '299', None, '562', None, '72', None, '8600000US76657', 'ZCTA5 76657', '8600000US76657'], ['529', None, '84', None, '976', None, '67', None, '392', None, '52', None, '8600000US76661', 'ZCTA5 76661', '8600000US76661'], ['735', None, '115', None, '1203', None, '165', None, '484', None, '81', None, '8600000US76664', 'ZCTA5 76664', '8600000US76664'], ['410', None, '273', None, '-666666666', '-', '-222222222', '**', '277', None, '140', None, '8600000US76680', 'ZCTA5 76680', '8600000US76680'], ['591', None, '97', None, '1187', None, '120', None, '415', None, '60', None, '8600000US76682', 'ZCTA5 76682', '8600000US76682'], ['-666666666', '-', '-222222222', '**', '-666666666', '-', '-222222222', '**', '-666666666', '-', '-222222222', '**', '8600000US76685', 'ZCTA5 76685', '8600000US76685'], ['698', None, '110', None, '1269', None, '104', None, '442', None, '54', None, '8600000US76691', 'ZCTA5 76691', '8600000US76691'], ['-666666666', '-', '-222222222', '**', '1908', None, '1018', None, '533', None, '281', None, '8600000US76701', 'ZCTA5 76701', '8600000US76701'], ['545', None, '138', None, '974', None, '80', None, '389', None, '28', None, '8600000US76704', 'ZCTA5 76704', '8600000US76704'], ['749', None, '75', None, '1083', None, '50', None, '421', None, '32', None, '8600000US76705', 'ZCTA5 76705', '8600000US76705'], ['814', None, '76', None, '1366', None, '78', None, '501', None, '32', None, '8600000US76706', 'ZCTA5 76706', '8600000US76706'], ['696', None, '91', None, '942', None, '74', None, '386', None, '25', None, '8600000US76707', 'ZCTA5 76707', '8600000US76707'], ['937', None, '83', None, '1333', None, '52', None, '468', None, '23', None, '8600000US76708', 'ZCTA5 76708', '8600000US76708'], ['961', None, '106', None, '1353', None, '67', None, '546', None, '47', None, '8600000US76710', 'ZCTA5 76710', '8600000US76710'], ['580', None, '96', None, '869', None, '68', None, '385', None, '22', None, '8600000US76711', 'ZCTA5 76711', '8600000US76711'], ['1315', None, '67', None, '1621', None, '50', None, '689', None, '44', None, '8600000US76712', 'ZCTA5 76712', '8600000US76712'], ['-666666666', '-', '-222222222', '**', '-666666666', '-', '-222222222', '**', '-666666666', '-', '-222222222', '**', '8600000US76798', 'ZCTA5 76798', '8600000US76798'], ['-666666666', '-', '-222222222', '**', '-666666666', '-', '-222222222', '**', '-666666666', '-', '-222222222', '**', '8600000US76831', 'ZCTA5 76831', '8600000US76831'], ['854', None, '116', None, '1137', None, '162', None, '386', None, '73', None, '8600000US76853', 'ZCTA5 76853', '8600000US76853'], ['-666666666', '-', '-222222222', '**', '-666666666', '-', '-222222222', '**', '-666666666', '-', '-222222222', '**', '8600000US76885', 'ZCTA5 76885', '8600000US76885'], ['668', None, '138', None, '1205', None, '205', None, '453', None, '59', None, '8600000US77853', 'ZCTA5 77853', '8600000US77853'], ['1103', None, '126', None, '1467', None, '73', None, '578', None, '65', None, '8600000US78602', 'ZCTA5 78602', '8600000US78602'], ['808', None, '186', None, '1324', None, '230', None, '388', None, '48', None, '8600000US78605', 'ZCTA5 78605', '8600000US78605'], ['884', None, '203', None, '1631', None, '116', None, '574', None, '108', None, '8600000US78606', 'ZCTA5 78606', '8600000US78606'], ['531', None, '265', None, '-666666666', '-', '-222222222', '**', '531', None, '244', None, '8600000US78607', 'ZCTA5 78607', '8600000US78607'], ['950', None, '358', None, '1500', None, '373', None, '-666666666', '-', '-222222222', '**', '8600000US78608', 'ZCTA5 78608', '8600000US78608'], ['601', None, '148', None, '1414', None, '267', None, '391', None, '61', None, '8600000US78609', 'ZCTA5 78609', '8600000US78609'], ['1723', None, '84', None, '1931', None, '64', None, '674', None, '44', None, '8600000US78610', 'ZCTA5 78610', '8600000US78610'], ['822', None, '156', None, '1453', None, '202', None, '507', None, '58', None, '8600000US78611', 'ZCTA5 78611', '8600000US78611'], ['1018', None, '144', None, '1468', None, '177', None, '523', None, '78', None, '8600000US78612', 'ZCTA5 78612', '8600000US78612'], ['1862', None, '47', None, '2110', None, '54', None, '777', None, '38', None, '8600000US78613', 'ZCTA5 78613', '8600000US78613'], ['930', None, '221', None, '1470', None, '228', None, '521', None, '80', None, '8600000US78615', 'ZCTA5 78615', '8600000US78615'], ['1103', None, '89', None, '1391', None, '51', None, '493', None, '45', None, '8600000US78617', 'ZCTA5 78617', '8600000US78617'], ['683', None, '392', None, '1542', None, '930', None, '500', None, '288', None, '8600000US78618', 'ZCTA5 78618', '8600000US78618'], ['1937', None, '512', None, '3034', None, '338', None, '796', None, '133', None, '8600000US78619', 'ZCTA5 78619', '8600000US78619'], ['1882', None, '217', None, '2557', None, '139', None, '830', None, '92', None, '8600000US78620', 'ZCTA5 78620', '8600000US78620'], ['1011', None, '89', None, '1387', None, '69', None, '508', None, '60', None, '8600000US78621', 'ZCTA5 78621', '8600000US78621'], ['777', None, '80', None, '1639', None, '104', None, '563', None, '32', None, '8600000US78624', 'ZCTA5 78624', '8600000US78624'], ['1382', None, '59', None, '1631', None, '45', None, '618', None, '56', None, '8600000US78626', 'ZCTA5 78626', '8600000US78626'], ['1666', None, '64', None, '2178', None, '93', None, '747', None, '25', None, '8600000US78628', 'ZCTA5 78628', '8600000US78628'], ['696', None, '269', None, '1494', None, '170', None, '382', None, '32', None, '8600000US78631', 'ZCTA5 78631', '8600000US78631'], ['1042', None, '66', None, '1867', None, '51', None, '729', None, '24', None, '8600000US78633', 'ZCTA5 78633', '8600000US78633'], ['1567', None, '62', None, '1681', None, '56', None, '667', None, '45', None, '8600000US78634', 'ZCTA5 78634', '8600000US78634'], ['1300', None, '1016', None, '1360', None, '416', None, '198', None, '36', None, '8600000US78635', 'ZCTA5 78635', '8600000US78635'], ['842', None, '167', None, '1520', None, '260', None, '605', None, '137', None, '8600000US78636', 'ZCTA5 78636', '8600000US78636'], ['816', None, '70', None, '1163', None, '119', None, '477', None, '76', None, '8600000US78639', 'ZCTA5 78639', '8600000US78639'], ['1385', None, '50', None, '1579', None, '37', None, '565', None, '50', None, '8600000US78640', 'ZCTA5 78640', '8600000US78640'], ['1679', None, '46', None, '1893', None, '51', None, '729', None, '44', None, '8600000US78641', 'ZCTA5 78641', '8600000US78641'], ['1464', None, '178', None, '2086', None, '121', None, '561', None, '53', None, '8600000US78642', 'ZCTA5 78642', '8600000US78642'], ['652', None, '109', None, '1199', None, '197', None, '436', None, '34', None, '8600000US78643', 'ZCTA5 78643', '8600000US78643'], ['1270', None, '146', None, '1728', None, '156', None, '610', None, '63', None, '8600000US78645', 'ZCTA5 78645', '8600000US78645'], ['676', None, '122', None, '1109', None, '128', None, '514', None, '85', None, '8600000US78650', 'ZCTA5 78650', '8600000US78650'], ['1551', None, '234', None, '1990', None, '166', None, '576', None, '92', None, '8600000US78652', 'ZCTA5 78652', '8600000US78652'], ['1393', None, '63', None, '1558', None, '62', None, '559', None, '55', None, '8600000US78653', 'ZCTA5 78653', '8600000US78653'], ['904', None, '82', None, '1489', None, '108', None, '550', None, '42', None, '8600000US78654', 'ZCTA5 78654', '8600000US78654'], ['1043', None, '113', None, '1705', None, '214', None, '791', None, '166', None, '8600000US78657', 'ZCTA5 78657', '8600000US78657'], ['682', None, '242', None, '1539', None, '286', None, '466', None, '38', None, '8600000US78659', 'ZCTA5 78659', '8600000US78659'], ['1603', None, '49', None, '1781', None, '54', None, '696', None, '50', None, '8600000US78660', 'ZCTA5 78660', '8600000US78660'], ['714', None, '112', None, '1292', None, '362', None, '574', None, '73', None, '8600000US78662', 'ZCTA5 78662', '8600000US78662'], ['1537', None, '1206', None, '1760', None, '383', None, '575', None, '120', None, '8600000US78663', 'ZCTA5 78663', '8600000US78663'], ['1475', None, '53', None, '1629', None, '40', None, '662', None, '33', None, '8600000US78664', 'ZCTA5 78664', '8600000US78664'], ['1745', None, '49', None, '1920', None, '61', None, '838', None, '44', None, '8600000US78665', 'ZCTA5 78665', '8600000US78665'], ['999', None, '83', None, '1470', None, '75', None, '514', None, '29', None, '8600000US78666', 'ZCTA5 78666', '8600000US78666'], ['1980', None, '228', None, '2876', None, '268', None, '777', None, '111', None, '8600000US78669', 'ZCTA5 78669', '8600000US78669'], ['670', None, '190', None, '1253', None, '530', None, '518', None, '105', None, '8600000US78671', 'ZCTA5 78671', '8600000US78671'], ['535', None, '175', None, '967', None, '263', None, '313', None, '86', None, '8600000US78672', 'ZCTA5 78672', '8600000US78672'], ['738', None, '438', None, '-666666666', '-', '-222222222', '**', '491', None, '437', None, '8600000US78675', 'ZCTA5 78675', '8600000US78675'], ['1176', None, '97', None, '1592', None, '90', None, '679', None, '74', None, '8600000US78676', 'ZCTA5 78676', '8600000US78676'], ['1814', None, '73', None, '2121', None, '57', None, '806', None, '50', None, '8600000US78681', 'ZCTA5 78681', '8600000US78681'], ['2406', None, '235', None, '2797', None, '242', None, '1335', None, '162', None, '8600000US78701', 'ZCTA5 78701', '8600000US78701'], ['1433', None, '172', None, '2192', None, '191', None, '718', None, '66', None, '8600000US78702', 'ZCTA5 78702', '8600000US78702'], ['2816', None, '221', None, '3814', None, '249', None, '1426', None, '148', None, '8600000US78703', 'ZCTA5 78703', '8600000US78703'], ['2041', None, '166', None, '2813', None, '113', None, '1053', None, '56', None, '8600000US78704', 'ZCTA5 78704', '8600000US78704'], ['1558', None, '191', None, '2614', None, '334', None, '1159', None, '223', None, '8600000US78705', 'ZCTA5 78705', '8600000US78705'], ['-666666666', '-', '-222222222', '**', '-666666666', '-', '-222222222', '**', '-666666666', '-', '-222222222', '**', '8600000US78712', 'ZCTA5 78712', '8600000US78712'], ['2250', None, '91', None, '2571', None, '94', None, '1105', None, '67', None, '8600000US78717', 'ZCTA5 78717', '8600000US78717'], ['976', None, '106', None, '1262', None, '151', None, '560', None, '264', None, '8600000US78719', 'ZCTA5 78719', '8600000US78719'], ['1141', None, '80', None, '1444', None, '85', None, '585', None, '65', None, '8600000US78721', 'ZCTA5 78721', '8600000US78721'], ['1758', None, '150', None, '2007', None, '198', None, '871', None, '38', None, '8600000US78722', 'ZCTA5 78722', '8600000US78722'], ['1607', None, '84', None, '1989', None, '73', None, '664', None, '42', None, '8600000US78723', 'ZCTA5 78723', '8600000US78723'], ['1046', None, '73', None, '1342', None, '63', None, '625', None, '70', None, '8600000US78724', 'ZCTA5 78724', '8600000US78724'], ['1173', None, '135', None, '1422', None, '146', None, '493', None, '81', None, '8600000US78725', 'ZCTA5 78725', '8600000US78725'], ['2556', None, '276', None, '2926', None, '210', None, '1111', None, '270', None, '8600000US78726', 'ZCTA5 78726', '8600000US78726'], ['1574', None, '64', None, '1872', None, '82', None, '768', None, '67', None, '8600000US78727', 'ZCTA5 78727', '8600000US78727'], ['1684', None, '84', None, '1880', None, '60', None, '676', None, '56', None, '8600000US78729', 'ZCTA5 78729', '8600000US78729'], ['3534', None, '585', None, '4001', '4,000+', '-333333333', '***', '1501', '1,500+', '-333333333', '***', '8600000US78730', 'ZCTA5 78730', '8600000US78730'], ['2352', None, '129', None, '3326', None, '160', None, '1182', None, '88', None, '8600000US78731', 'ZCTA5 78731', '8600000US78731'], ['2743', None, '141', None, '3142', None, '251', None, '1254', None, '133', None, '8600000US78732', 'ZCTA5 78732', '8600000US78732'], ['2428', None, '183', None, '3180', None, '223', None, '1268', None, '278', None, '8600000US78733', 'ZCTA5 78733', '8600000US78733'], ['2070', None, '102', None, '2412', None, '92', None, '943', None, '56', None, '8600000US78734', 'ZCTA5 78734', '8600000US78734'], ['2564', None, '151', None, '2959', None, '195', None, '1181', None, '79', None, '8600000US78735', 'ZCTA5 78735', '8600000US78735'], ['1571', None, '239', None, '2541', None, '257', None, '639', None, '44', None, '8600000US78736', 'ZCTA5 78736', '8600000US78736'], ['2567', None, '112', None, '2941', None, '107', None, '991', None, '57', None, '8600000US78737', 'ZCTA5 78737', '8600000US78737'], ['2655', None, '168', None, '3141', None, '143', None, '1187', None, '131', None, '8600000US78738', 'ZCTA5 78738', '8600000US78738'], ['2491', None, '114', None, '2784', None, '67', None, '1049', None, '51', None, '8600000US78739', 'ZCTA5 78739', '8600000US78739'], ['1085', None, '141', None, '1568', None, '158', None, '477', None, '40', None, '8600000US78741', 'ZCTA5 78741', '8600000US78741'], ['452', None, '190', None, '1848', None, '862', None, '344', None, '194', None, '8600000US78742', 'ZCTA5 78742', '8600000US78742'], ['1098', None, '58', None, '1317', None, '51', None, '520', None, '39', None, '8600000US78744', 'ZCTA5 78744', '8600000US78744'], ['1329', None, '56', None, '1707', None, '56', None, '643', None, '24', None, '8600000US78745', 'ZCTA5 78745', '8600000US78745'], ['3034', None, '129', None, '4001', '4,000+', '-333333333', '***', '1501', '1,500+', '-333333333', '***', '8600000US78746', 'ZCTA5 78746', '8600000US78746'], ['1336', None, '77', None, '1519', None, '81', None, '715', None, '75', None, '8600000US78747', 'ZCTA5 78747', '8600000US78747'], ['1601', None, '42', None, '1733', None, '40', None, '673', None, '41', None, '8600000US78748', 'ZCTA5 78748', '8600000US78748'], ['1770', None, '72', None, '2043', None, '81', None, '868', None, '43', None, '8600000US78749', 'ZCTA5 78749', '8600000US78749'], ['1714', None, '68', None, '2375', None, '121', None, '1075', None, '68', None, '8600000US78750', 'ZCTA5 78750', '8600000US78750'], ['2270', None, '228', None, '2751', None, '179', None, '786', None, '92', None, '8600000US78751', 'ZCTA5 78751', '8600000US78751'], ['1472', None, '131', None, '1792', None, '110', None, '576', None, '39', None, '8600000US78752', 'ZCTA5 78752', '8600000US78752'], ['1283', None, '72', None, '1607', None, '54', None, '671', None, '80', None, '8600000US78753', 'ZCTA5 78753', '8600000US78753'], ['1612', None, '50', None, '1765', None, '57', None, '709', None, '78', None, '8600000US78754', 'ZCTA5 78754', '8600000US78754'], ['2056', None, '302', None, '2975', None, '331', None, '1138', None, '149', None, '8600000US78756', 'ZCTA5 78756', '8600000US78756'], ['1819', None, '117', None, '2312', None, '109', None, '796', None, '50', None, '8600000US78757', 'ZCTA5 78757', '8600000US78757'], ['1221', None, '84', None, '1545', None, '63', None, '577', None, '25', None, '8600000US78758', 'ZCTA5 78758', '8600000US78758'], ['1698', None, '89', None, '2573', None, '105', None, '917', None, '38', None, '8600000US78759', 'ZCTA5 78759', '8600000US78759'], ['682', None, '105', None, '1288', None, '179', None, '497', None, '63', None, '8600000US78942', 'ZCTA5 78942', '8600000US78942'], ['553', None, '100', None, '1506', None, '177', None, '430', None, '176', None, '8600000US78946', 'ZCTA5 78946', '8600000US78946'], ['780', None, '190', None, '1545', None, '121', None, '453', None, '67', None, '8600000US78947', 'ZCTA5 78947', '8600000US78947'], ['490', None, '102', None, '1677', None, '186', None, '465', None, '72', None, '8600000US78948', 'ZCTA5 78948', '8600000US78948'], ['943', None, '353', None, '1264', None, '423', None, '393', None, '271', None, '8600000US78953', 'ZCTA5 78953', '8600000US78953']]\n"
     ]
    }
   ],
   "source": [
    "mmc_2019_url = \"https://api.census.gov/data/2019/acs/acs5?get=group(B25088)&ucgid=\" + geocodes2\n",
    "r_mmc_2019 = requests.get(mmc_2019_url).json()\n",
    "\n",
    "print(r_mmc_2019)"
   ]
  },
  {
   "cell_type": "code",
   "execution_count": 30,
   "metadata": {},
   "outputs": [
    {
     "data": {
      "text/plain": [
       "0              GEO_ID\n",
       "1      8600000US76501\n",
       "2      8600000US76502\n",
       "3      8600000US76504\n",
       "4      8600000US76511\n",
       "            ...      \n",
       "161    8600000US78942\n",
       "162    8600000US78946\n",
       "163    8600000US78947\n",
       "164    8600000US78948\n",
       "165    8600000US78953\n",
       "Length: 166, dtype: object"
      ]
     },
     "execution_count": 30,
     "metadata": {},
     "output_type": "execute_result"
    }
   ],
   "source": [
    "r_mmc_2019_zip = pd.Series()\n",
    "\n",
    "i = 1\n",
    "for i in range(166):\n",
    "    data = r_mmc_2019[i][12]\n",
    "    r_mmc_2019_zip[i] = data\n",
    "    \n",
    "\n",
    "\n",
    "r_mmc_2019_zip\n",
    "\n"
   ]
  },
  {
   "cell_type": "code",
   "execution_count": 31,
   "metadata": {},
   "outputs": [
    {
     "data": {
      "text/plain": [
       "0      B25088_001E\n",
       "1              783\n",
       "2             1143\n",
       "3              771\n",
       "4              520\n",
       "          ...     \n",
       "161            682\n",
       "162            553\n",
       "163            780\n",
       "164            490\n",
       "165            943\n",
       "Length: 166, dtype: object"
      ]
     },
     "execution_count": 31,
     "metadata": {},
     "output_type": "execute_result"
    }
   ],
   "source": [
    "r_mmc_2019_total = pd.Series()\n",
    "\n",
    "i = 1\n",
    "for i in range(166):\n",
    "    data = r_mmc_2019[i][0]\n",
    "    r_mmc_2019_total[i] = data\n",
    "    \n",
    "\n",
    "\n",
    "r_mmc_2019_total"
   ]
  },
  {
   "cell_type": "code",
   "execution_count": 32,
   "metadata": {},
   "outputs": [
    {
     "data": {
      "text/plain": [
       "0      B25088_002E\n",
       "1             1134\n",
       "2             1430\n",
       "3             1113\n",
       "4             1110\n",
       "          ...     \n",
       "161           1288\n",
       "162           1506\n",
       "163           1545\n",
       "164           1677\n",
       "165           1264\n",
       "Length: 166, dtype: object"
      ]
     },
     "execution_count": 32,
     "metadata": {},
     "output_type": "execute_result"
    }
   ],
   "source": [
    "r_mmc_2019_wMort = pd.Series()\n",
    "\n",
    "i = 1\n",
    "for i in range(166):\n",
    "    data = r_mmc_2019[i][4]\n",
    "    r_mmc_2019_wMort[i] = data\n",
    "    \n",
    "\n",
    "\n",
    "r_mmc_2019_wMort"
   ]
  },
  {
   "cell_type": "code",
   "execution_count": 33,
   "metadata": {},
   "outputs": [
    {
     "data": {
      "text/plain": [
       "0      B25088_003E\n",
       "1              474\n",
       "2              556\n",
       "3              425\n",
       "4              367\n",
       "          ...     \n",
       "161            497\n",
       "162            430\n",
       "163            453\n",
       "164            465\n",
       "165            393\n",
       "Length: 166, dtype: object"
      ]
     },
     "execution_count": 33,
     "metadata": {},
     "output_type": "execute_result"
    }
   ],
   "source": [
    "r_mmc_2019_woMort = pd.Series()\n",
    "\n",
    "i = 1\n",
    "for i in range(166):\n",
    "    data = r_mmc_2019[i][8]\n",
    "    r_mmc_2019_woMort[i] = data\n",
    "    \n",
    "\n",
    "\n",
    "r_mmc_2019_woMort"
   ]
  },
  {
   "cell_type": "code",
   "execution_count": 34,
   "metadata": {},
   "outputs": [
    {
     "data": {
      "text/html": [
       "<div>\n",
       "<style scoped>\n",
       "    .dataframe tbody tr th:only-of-type {\n",
       "        vertical-align: middle;\n",
       "    }\n",
       "\n",
       "    .dataframe tbody tr th {\n",
       "        vertical-align: top;\n",
       "    }\n",
       "\n",
       "    .dataframe thead th {\n",
       "        text-align: right;\n",
       "    }\n",
       "</style>\n",
       "<table border=\"1\" class=\"dataframe\">\n",
       "  <thead>\n",
       "    <tr style=\"text-align: right;\">\n",
       "      <th></th>\n",
       "      <th>Zip Code</th>\n",
       "      <th>2019 Total</th>\n",
       "      <th>2019 With Mortgage</th>\n",
       "      <th>2019 Without Mortgage</th>\n",
       "    </tr>\n",
       "  </thead>\n",
       "  <tbody>\n",
       "    <tr>\n",
       "      <th>1</th>\n",
       "      <td>76501</td>\n",
       "      <td>783</td>\n",
       "      <td>1134</td>\n",
       "      <td>474</td>\n",
       "    </tr>\n",
       "    <tr>\n",
       "      <th>2</th>\n",
       "      <td>76502</td>\n",
       "      <td>1143</td>\n",
       "      <td>1430</td>\n",
       "      <td>556</td>\n",
       "    </tr>\n",
       "    <tr>\n",
       "      <th>3</th>\n",
       "      <td>76504</td>\n",
       "      <td>771</td>\n",
       "      <td>1113</td>\n",
       "      <td>425</td>\n",
       "    </tr>\n",
       "    <tr>\n",
       "      <th>4</th>\n",
       "      <td>76511</td>\n",
       "      <td>520</td>\n",
       "      <td>1110</td>\n",
       "      <td>367</td>\n",
       "    </tr>\n",
       "    <tr>\n",
       "      <th>5</th>\n",
       "      <td>76513</td>\n",
       "      <td>1067</td>\n",
       "      <td>1526</td>\n",
       "      <td>539</td>\n",
       "    </tr>\n",
       "  </tbody>\n",
       "</table>\n",
       "</div>"
      ],
      "text/plain": [
       "  Zip Code 2019 Total 2019 With Mortgage 2019 Without Mortgage\n",
       "1    76501        783               1134                   474\n",
       "2    76502       1143               1430                   556\n",
       "3    76504        771               1113                   425\n",
       "4    76511        520               1110                   367\n",
       "5    76513       1067               1526                   539"
      ]
     },
     "execution_count": 34,
     "metadata": {},
     "output_type": "execute_result"
    }
   ],
   "source": [
    "med_month_cost_2019 = pd.DataFrame({\"Zip Code\" : r_mmc_2019_zip,\n",
    "                                    \"2019 Total\" : r_mmc_2019_total,\n",
    "                                    \"2019 With Mortgage\" : r_mmc_2019_wMort,\n",
    "                                    \"2019 Without Mortgage\":r_mmc_2019_woMort})\n",
    "\n",
    "med_month_cost_2019 = med_month_cost_2019.drop(index=0)\n",
    "med_month_cost_2019['Zip Code'] = med_month_cost_2019[\"Zip Code\"].str.replace('8600000US', '')\n",
    "med_month_cost_2019.head()"
   ]
  },
  {
   "cell_type": "code",
   "execution_count": 35,
   "metadata": {},
   "outputs": [
    {
     "name": "stdout",
     "output_type": "stream",
     "text": [
      "[['B25088_001E', 'B25088_001EA', 'B25088_001M', 'B25088_001MA', 'B25088_002E', 'B25088_002EA', 'B25088_002M', 'B25088_002MA', 'B25088_003E', 'B25088_003EA', 'B25088_003M', 'B25088_003MA', 'GEO_ID', 'NAME', 'ucgid'], ['754', None, '97', None, '1093', None, '65', None, '481', None, '36', None, '8600000US76501', 'ZCTA5 76501', '8600000US76501'], ['1122', None, '57', None, '1404', None, '49', None, '556', None, '39', None, '8600000US76502', 'ZCTA5 76502', '8600000US76502'], ['689', None, '66', None, '1076', None, '52', None, '410', None, '27', None, '8600000US76504', 'ZCTA5 76504', '8600000US76504'], ['537', None, '133', None, '1178', None, '107', None, '337', None, '46', None, '8600000US76511', 'ZCTA5 76511', '8600000US76511'], ['1023', None, '70', None, '1483', None, '89', None, '547', None, '28', None, '8600000US76513', 'ZCTA5 76513', '8600000US76513'], ['406', None, '65', None, '1219', None, '157', None, '318', None, '73', None, '8600000US76518', 'ZCTA5 76518', '8600000US76518'], ['604', None, '351', None, '-666666666', '-', '-222222222', '**', '384', None, '104', None, '8600000US76519', 'ZCTA5 76519', '8600000US76519'], ['596', None, '55', None, '1029', None, '130', None, '472', None, '48', None, '8600000US76520', 'ZCTA5 76520', '8600000US76520'], ['954', None, '41', None, '1197', None, '31', None, '484', None, '24', None, '8600000US76522', 'ZCTA5 76522', '8600000US76522'], ['915', None, '217', None, '1198', None, '111', None, '450', None, '26', None, '8600000US76524', 'ZCTA5 76524', '8600000US76524'], ['483', None, '68', None, '1103', None, '166', None, '363', None, '64', None, '8600000US76525', 'ZCTA5 76525', '8600000US76525'], ['886', None, '197', None, '1362', None, '311', None, '520', None, '66', None, '8600000US76527', 'ZCTA5 76527', '8600000US76527'], ['698', None, '75', None, '1150', None, '61', None, '371', None, '18', None, '8600000US76528', 'ZCTA5 76528', '8600000US76528'], ['766', None, '81', None, '1309', None, '120', None, '504', None, '53', None, '8600000US76530', 'ZCTA5 76530', '8600000US76530'], ['833', None, '219', None, '1359', None, '162', None, '532', None, '35', None, '8600000US76534', 'ZCTA5 76534', '8600000US76534'], ['1249', None, '87', None, '1376', None, '52', None, '551', None, '58', None, '8600000US76537', 'ZCTA5 76537', '8600000US76537'], ['658', None, '191', None, '1159', None, '205', None, '396', None, '86', None, '8600000US76538', 'ZCTA5 76538', '8600000US76538'], ['1028', None, '167', None, '1430', None, '79', None, '510', None, '53', None, '8600000US76539', 'ZCTA5 76539', '8600000US76539'], ['583', None, '67', None, '904', None, '86', None, '394', None, '35', None, '8600000US76541', 'ZCTA5 76541', '8600000US76541'], ['1205', None, '49', None, '1371', None, '44', None, '488', None, '32', None, '8600000US76542', 'ZCTA5 76542', '8600000US76542'], ['829', None, '41', None, '1022', None, '45', None, '390', None, '14', None, '8600000US76543', 'ZCTA5 76543', '8600000US76543'], ['-666666666', '-', '-222222222', '**', '-666666666', '-', '-222222222', '**', '444', None, '22', None, '8600000US76544', 'ZCTA5 76544', '8600000US76544'], ['1379', None, '88', None, '1677', None, '63', None, '549', None, '29', None, '8600000US76548', 'ZCTA5 76548', '8600000US76548'], ['1140', None, '40', None, '1249', None, '48', None, '446', None, '42', None, '8600000US76549', 'ZCTA5 76549', '8600000US76549'], ['725', None, '97', None, '1332', None, '113', None, '527', None, '44', None, '8600000US76550', 'ZCTA5 76550', '8600000US76550'], ['819', None, '180', None, '1019', None, '67', None, '396', None, '51', None, '8600000US76554', 'ZCTA5 76554', '8600000US76554'], ['495', None, '99', None, '1104', None, '159', None, '402', None, '82', None, '8600000US76556', 'ZCTA5 76556', '8600000US76556'], ['609', None, '148', None, '1219', None, '132', None, '421', None, '50', None, '8600000US76557', 'ZCTA5 76557', '8600000US76557'], ['1127', None, '115', None, '1319', None, '82', None, '336', None, '176', None, '8600000US76559', 'ZCTA5 76559', '8600000US76559'], ['613', None, '152', None, '878', None, '58', None, '373', None, '67', None, '8600000US76561', 'ZCTA5 76561', '8600000US76561'], ['579', None, '358', None, '1180', None, '156', None, '313', None, '239', None, '8600000US76566', 'ZCTA5 76566', '8600000US76566'], ['668', None, '98', None, '1023', None, '83', None, '427', None, '46', None, '8600000US76567', 'ZCTA5 76567', '8600000US76567'], ['771', None, '216', None, '1153', None, '200', None, '472', None, '115', None, '8600000US76569', 'ZCTA5 76569', '8600000US76569'], ['427', None, '86', None, '1177', None, '186', None, '350', None, '43', None, '8600000US76570', 'ZCTA5 76570', '8600000US76570'], ['1319', None, '119', None, '1899', None, '222', None, '601', None, '52', None, '8600000US76571', 'ZCTA5 76571', '8600000US76571'], ['980', None, '80', None, '1364', None, '51', None, '561', None, '27', None, '8600000US76574', 'ZCTA5 76574', '8600000US76574'], ['590', None, '107', None, '1467', None, '179', None, '374', None, '61', None, '8600000US76577', 'ZCTA5 76577', '8600000US76577'], ['783', None, '111', None, '1341', None, '384', None, '515', None, '79', None, '8600000US76578', 'ZCTA5 76578', '8600000US76578'], ['670', None, '175', None, '1096', None, '101', None, '407', None, '60', None, '8600000US76579', 'ZCTA5 76579', '8600000US76579'], ['650', None, '113', None, '1206', None, '150', None, '384', None, '74', None, '8600000US76624', 'ZCTA5 76624', '8600000US76624'], ['1029', None, '271', None, '1406', None, '587', None, '481', None, '173', None, '8600000US76630', 'ZCTA5 76630', '8600000US76630'], ['462', None, '61', None, '1134', None, '315', None, '385', None, '64', None, '8600000US76632', 'ZCTA5 76632', '8600000US76632'], ['1109', None, '399', None, '1673', None, '129', None, '560', None, '60', None, '8600000US76633', 'ZCTA5 76633', '8600000US76633'], ['904', None, '121', None, '1843', None, '353', None, '540', None, '70', None, '8600000US76638', 'ZCTA5 76638', '8600000US76638'], ['687', None, '327', None, '1032', None, '248', None, '411', None, '113', None, '8600000US76640', 'ZCTA5 76640', '8600000US76640'], ['1085', None, '100', None, '1479', None, '72', None, '603', None, '43', None, '8600000US76643', 'ZCTA5 76643', '8600000US76643'], ['1297', None, '96', None, '1704', None, '103', None, '511', None, '44', None, '8600000US76655', 'ZCTA5 76655', '8600000US76655'], ['666', None, '174', None, '1309', None, '131', None, '374', None, '41', None, '8600000US76656', 'ZCTA5 76656', '8600000US76656'], ['1161', None, '142', None, '1675', None, '314', None, '537', None, '87', None, '8600000US76657', 'ZCTA5 76657', '8600000US76657'], ['547', None, '73', None, '957', None, '76', None, '383', None, '67', None, '8600000US76661', 'ZCTA5 76661', '8600000US76661'], ['698', None, '120', None, '1151', None, '165', None, '436', None, '56', None, '8600000US76664', 'ZCTA5 76664', '8600000US76664'], ['454', None, '202', None, '-666666666', '-', '-222222222', '**', '318', None, '288', None, '8600000US76680', 'ZCTA5 76680', '8600000US76680'], ['580', None, '78', None, '1098', None, '142', None, '397', None, '71', None, '8600000US76682', 'ZCTA5 76682', '8600000US76682'], ['-666666666', '-', '-222222222', '**', '-666666666', '-', '-222222222', '**', '-666666666', '-', '-222222222', '**', '8600000US76685', 'ZCTA5 76685', '8600000US76685'], ['697', None, '109', None, '1225', None, '93', None, '456', None, '32', None, '8600000US76691', 'ZCTA5 76691', '8600000US76691'], ['1505', None, '796', None, '1712', None, '307', None, '545', None, '438', None, '8600000US76701', 'ZCTA5 76701', '8600000US76701'], ['498', None, '157', None, '978', None, '102', None, '378', None, '24', None, '8600000US76704', 'ZCTA5 76704', '8600000US76704'], ['773', None, '61', None, '1072', None, '61', None, '421', None, '30', None, '8600000US76705', 'ZCTA5 76705', '8600000US76705'], ['802', None, '81', None, '1323', None, '51', None, '491', None, '26', None, '8600000US76706', 'ZCTA5 76706', '8600000US76706'], ['642', None, '117', None, '932', None, '83', None, '376', None, '22', None, '8600000US76707', 'ZCTA5 76707', '8600000US76707'], ['933', None, '58', None, '1300', None, '55', None, '462', None, '29', None, '8600000US76708', 'ZCTA5 76708', '8600000US76708'], ['935', None, '83', None, '1298', None, '73', None, '557', None, '35', None, '8600000US76710', 'ZCTA5 76710', '8600000US76710'], ['591', None, '130', None, '836', None, '53', None, '382', None, '28', None, '8600000US76711', 'ZCTA5 76711', '8600000US76711'], ['1282', None, '58', None, '1578', None, '65', None, '692', None, '39', None, '8600000US76712', 'ZCTA5 76712', '8600000US76712'], ['-666666666', '-', '-222222222', '**', '-666666666', '-', '-222222222', '**', '-666666666', '-', '-222222222', '**', '8600000US76798', 'ZCTA5 76798', '8600000US76798'], ['-666666666', '-', '-222222222', '**', '-666666666', '-', '-222222222', '**', '-666666666', '-', '-222222222', '**', '8600000US76831', 'ZCTA5 76831', '8600000US76831'], ['794', None, '226', None, '1170', None, '206', None, '383', None, '55', None, '8600000US76853', 'ZCTA5 76853', '8600000US76853'], ['541', None, '308', None, '-666666666', '-', '-222222222', '**', '523', None, '257', None, '8600000US76885', 'ZCTA5 76885', '8600000US76885'], ['640', None, '138', None, '1263', None, '186', None, '506', None, '64', None, '8600000US77853', 'ZCTA5 77853', '8600000US77853'], ['1081', None, '101', None, '1432', None, '65', None, '600', None, '65', None, '8600000US78602', 'ZCTA5 78602', '8600000US78602'], ['806', None, '216', None, '1330', None, '278', None, '410', None, '40', None, '8600000US78605', 'ZCTA5 78605', '8600000US78605'], ['875', None, '188', None, '1689', None, '169', None, '550', None, '98', None, '8600000US78606', 'ZCTA5 78606', '8600000US78606'], ['-666666666', '-', '-222222222', '**', '-666666666', '-', '-222222222', '**', '-666666666', '-', '-222222222', '**', '8600000US78607', 'ZCTA5 78607', '8600000US78607'], ['979', None, '509', None, '1341', None, '111', None, '-666666666', '-', '-222222222', '**', '8600000US78608', 'ZCTA5 78608', '8600000US78608'], ['575', None, '159', None, '1182', None, '307', None, '410', None, '49', None, '8600000US78609', 'ZCTA5 78609', '8600000US78609'], ['1706', None, '66', None, '1866', None, '43', None, '640', None, '40', None, '8600000US78610', 'ZCTA5 78610', '8600000US78610'], ['787', None, '167', None, '1409', None, '200', None, '474', None, '41', None, '8600000US78611', 'ZCTA5 78611', '8600000US78611'], ['1043', None, '135', None, '1562', None, '224', None, '503', None, '71', None, '8600000US78612', 'ZCTA5 78612', '8600000US78612'], ['1822', None, '40', None, '2018', None, '55', None, '746', None, '36', None, '8600000US78613', 'ZCTA5 78613', '8600000US78613'], ['1005', None, '372', None, '1362', None, '60', None, '545', None, '121', None, '8600000US78615', 'ZCTA5 78615', '8600000US78615'], ['1063', None, '124', None, '1374', None, '42', None, '472', None, '46', None, '8600000US78617', 'ZCTA5 78617', '8600000US78617'], ['600', None, '310', None, '1575', None, '468', None, '483', None, '162', None, '8600000US78618', 'ZCTA5 78618', '8600000US78618'], ['2090', None, '322', None, '2793', None, '369', None, '817', None, '122', None, '8600000US78619', 'ZCTA5 78619', '8600000US78619'], ['1863', None, '201', None, '2518', None, '117', None, '756', None, '53', None, '8600000US78620', 'ZCTA5 78620', '8600000US78620'], ['1031', None, '77', None, '1377', None, '90', None, '473', None, '52', None, '8600000US78621', 'ZCTA5 78621', '8600000US78621'], ['783', None, '56', None, '1650', None, '92', None, '550', None, '26', None, '8600000US78624', 'ZCTA5 78624', '8600000US78624'], ['1307', None, '73', None, '1549', None, '59', None, '591', None, '37', None, '8600000US78626', 'ZCTA5 78626', '8600000US78626'], ['1564', None, '67', None, '2020', None, '95', None, '712', None, '32', None, '8600000US78628', 'ZCTA5 78628', '8600000US78628'], ['631', None, '232', None, '1470', None, '175', None, '347', None, '72', None, '8600000US78631', 'ZCTA5 78631', '8600000US78631'], ['1039', None, '70', None, '1791', None, '56', None, '688', None, '19', None, '8600000US78633', 'ZCTA5 78633', '8600000US78633'], ['1481', None, '49', None, '1600', None, '61', None, '635', None, '45', None, '8600000US78634', 'ZCTA5 78634', '8600000US78634'], ['1345', None, '986', None, '-666666666', '-', '-222222222', '**', '-666666666', '-', '-222222222', '**', '8600000US78635', 'ZCTA5 78635', '8600000US78635'], ['819', None, '119', None, '1416', None, '155', None, '578', None, '172', None, '8600000US78636', 'ZCTA5 78636', '8600000US78636'], ['779', None, '86', None, '1170', None, '186', None, '434', None, '48', None, '8600000US78639', 'ZCTA5 78639', '8600000US78639'], ['1332', None, '48', None, '1522', None, '42', None, '557', None, '34', None, '8600000US78640', 'ZCTA5 78640', '8600000US78640'], ['1606', None, '39', None, '1797', None, '42', None, '680', None, '30', None, '8600000US78641', 'ZCTA5 78641', '8600000US78641'], ['1588', None, '223', None, '2074', None, '129', None, '582', None, '93', None, '8600000US78642', 'ZCTA5 78642', '8600000US78642'], ['660', None, '112', None, '1259', None, '182', None, '414', None, '36', None, '8600000US78643', 'ZCTA5 78643', '8600000US78643'], ['1231', None, '107', None, '1662', None, '111', None, '600', None, '46', None, '8600000US78645', 'ZCTA5 78645', '8600000US78645'], ['788', None, '189', None, '1167', None, '91', None, '535', None, '142', None, '8600000US78650', 'ZCTA5 78650', '8600000US78650'], ['1463', None, '185', None, '1823', None, '128', None, '555', None, '88', None, '8600000US78652', 'ZCTA5 78652', '8600000US78652'], ['1288', None, '63', None, '1439', None, '54', None, '512', None, '69', None, '8600000US78653', 'ZCTA5 78653', '8600000US78653'], ['894', None, '95', None, '1496', None, '119', None, '517', None, '46', None, '8600000US78654', 'ZCTA5 78654', '8600000US78654'], ['1052', None, '118', None, '1741', None, '184', None, '801', None, '109', None, '8600000US78657', 'ZCTA5 78657', '8600000US78657'], ['718', None, '226', None, '1089', None, '268', None, '457', None, '57', None, '8600000US78659', 'ZCTA5 78659', '8600000US78659'], ['1533', None, '46', None, '1700', None, '39', None, '691', None, '51', None, '8600000US78660', 'ZCTA5 78660', '8600000US78660'], ['709', None, '166', None, '1296', None, '256', None, '533', None, '100', None, '8600000US78662', 'ZCTA5 78662', '8600000US78662'], ['1350', None, '417', None, '1642', None, '455', None, '612', None, '153', None, '8600000US78663', 'ZCTA5 78663', '8600000US78663'], ['1397', None, '46', None, '1533', None, '56', None, '662', None, '37', None, '8600000US78664', 'ZCTA5 78664', '8600000US78664'], ['1728', None, '52', None, '1889', None, '51', None, '850', None, '68', None, '8600000US78665', 'ZCTA5 78665', '8600000US78665'], ['954', None, '89', None, '1410', None, '61', None, '487', None, '28', None, '8600000US78666', 'ZCTA5 78666', '8600000US78666'], ['1945', None, '144', None, '2730', None, '275', None, '756', None, '119', None, '8600000US78669', 'ZCTA5 78669', '8600000US78669'], ['646', None, '170', None, '971', None, '196', None, '541', None, '64', None, '8600000US78671', 'ZCTA5 78671', '8600000US78671'], ['626', None, '162', None, '911', None, '257', None, '340', None, '103', None, '8600000US78672', 'ZCTA5 78672', '8600000US78672'], ['773', None, '460', None, '-666666666', '-', '-222222222', '**', '-666666666', '-', '-222222222', '**', '8600000US78675', 'ZCTA5 78675', '8600000US78675'], ['1056', None, '95', None, '1456', None, '110', None, '657', None, '61', None, '8600000US78676', 'ZCTA5 78676', '8600000US78676'], ['1760', None, '54', None, '2067', None, '42', None, '828', None, '45', None, '8600000US78681', 'ZCTA5 78681', '8600000US78681'], ['2291', None, '275', None, '2680', None, '196', None, '1335', None, '92', None, '8600000US78701', 'ZCTA5 78701', '8600000US78701'], ['1307', None, '143', None, '1945', None, '119', None, '629', None, '87', None, '8600000US78702', 'ZCTA5 78702', '8600000US78702'], ['2822', None, '218', None, '3741', None, '217', None, '1501', '1,500+', '-333333333', '***', '8600000US78703', 'ZCTA5 78703', '8600000US78703'], ['1895', None, '116', None, '2618', None, '120', None, '1019', None, '40', None, '8600000US78704', 'ZCTA5 78704', '8600000US78704'], ['1524', None, '359', None, '2788', None, '235', None, '1095', None, '132', None, '8600000US78705', 'ZCTA5 78705', '8600000US78705'], ['-666666666', '-', '-222222222', '**', '-666666666', '-', '-222222222', '**', '-666666666', '-', '-222222222', '**', '8600000US78712', 'ZCTA5 78712', '8600000US78712'], ['2139', None, '92', None, '2444', None, '89', None, '1019', None, '68', None, '8600000US78717', 'ZCTA5 78717', '8600000US78717'], ['955', None, '76', None, '1261', None, '170', None, '625', None, '219', None, '8600000US78719', 'ZCTA5 78719', '8600000US78719'], ['993', None, '98', None, '1337', None, '119', None, '578', None, '79', None, '8600000US78721', 'ZCTA5 78721', '8600000US78721'], ['1631', None, '104', None, '1934', None, '141', None, '799', None, '52', None, '8600000US78722', 'ZCTA5 78722', '8600000US78722'], ['1486', None, '86', None, '1892', None, '54', None, '633', None, '50', None, '8600000US78723', 'ZCTA5 78723', '8600000US78723'], ['1042', None, '57', None, '1294', None, '60', None, '557', None, '55', None, '8600000US78724', 'ZCTA5 78724', '8600000US78724'], ['1199', None, '139', None, '1370', None, '136', None, '455', None, '39', None, '8600000US78725', 'ZCTA5 78725', '8600000US78725'], ['2489', None, '263', None, '2756', None, '135', None, '956', None, '167', None, '8600000US78726', 'ZCTA5 78726', '8600000US78726'], ['1554', None, '71', None, '1796', None, '67', None, '739', None, '58', None, '8600000US78727', 'ZCTA5 78727', '8600000US78727'], ['1559', None, '69', None, '1782', None, '61', None, '635', None, '51', None, '8600000US78729', 'ZCTA5 78729', '8600000US78729'], ['3137', None, '472', None, '4001', '4,000+', '-333333333', '***', '1501', '1,500+', '-333333333', '***', '8600000US78730', 'ZCTA5 78730', '8600000US78730'], ['2327', None, '129', None, '3109', None, '157', None, '1160', None, '79', None, '8600000US78731', 'ZCTA5 78731', '8600000US78731'], ['2791', None, '183', None, '3266', None, '229', None, '1297', None, '135', None, '8600000US78732', 'ZCTA5 78732', '8600000US78732'], ['2401', None, '174', None, '3193', None, '237', None, '1051', None, '150', None, '8600000US78733', 'ZCTA5 78733', '8600000US78733'], ['2070', None, '117', None, '2432', None, '106', None, '887', None, '70', None, '8600000US78734', 'ZCTA5 78734', '8600000US78734'], ['2561', None, '134', None, '2847', None, '154', None, '1186', None, '92', None, '8600000US78735', 'ZCTA5 78735', '8600000US78735'], ['1602', None, '304', None, '2278', None, '121', None, '654', None, '41', None, '8600000US78736', 'ZCTA5 78736', '8600000US78736'], ['2471', None, '118', None, '2861', None, '96', None, '912', None, '37', None, '8600000US78737', 'ZCTA5 78737', '8600000US78737'], ['2706', None, '123', None, '3158', None, '122', None, '1186', None, '81', None, '8600000US78738', 'ZCTA5 78738', '8600000US78738'], ['2412', None, '121', None, '2720', None, '103', None, '1027', None, '50', None, '8600000US78739', 'ZCTA5 78739', '8600000US78739'], ['997', None, '141', None, '1546', None, '156', None, '491', None, '62', None, '8600000US78741', 'ZCTA5 78741', '8600000US78741'], ['447', None, '235', None, '-666666666', '-', '-222222222', '**', '403', None, '234', None, '8600000US78742', 'ZCTA5 78742', '8600000US78742'], ['1029', None, '59', None, '1271', None, '49', None, '475', None, '41', None, '8600000US78744', 'ZCTA5 78744', '8600000US78744'], ['1279', None, '51', None, '1628', None, '40', None, '624', None, '23', None, '8600000US78745', 'ZCTA5 78745', '8600000US78745'], ['3015', None, '119', None, '3948', None, '120', None, '1501', '1,500+', '-333333333', '***', '8600000US78746', 'ZCTA5 78746', '8600000US78746'], ['1332', None, '52', None, '1479', None, '54', None, '714', None, '64', None, '8600000US78747', 'ZCTA5 78747', '8600000US78747'], ['1565', None, '43', None, '1703', None, '39', None, '632', None, '48', None, '8600000US78748', 'ZCTA5 78748', '8600000US78748'], ['1721', None, '53', None, '1984', None, '65', None, '804', None, '45', None, '8600000US78749', 'ZCTA5 78749', '8600000US78749'], ['1683', None, '61', None, '2264', None, '101', None, '980', None, '66', None, '8600000US78750', 'ZCTA5 78750', '8600000US78750'], ['2068', None, '202', None, '2540', None, '225', None, '750', None, '94', None, '8600000US78751', 'ZCTA5 78751', '8600000US78751'], ['1539', None, '115', None, '1770', None, '116', None, '593', None, '39', None, '8600000US78752', 'ZCTA5 78752', '8600000US78752'], ['1255', None, '72', None, '1505', None, '56', None, '635', None, '56', None, '8600000US78753', 'ZCTA5 78753', '8600000US78753'], ['1553', None, '64', None, '1713', None, '57', None, '704', None, '67', None, '8600000US78754', 'ZCTA5 78754', '8600000US78754'], ['1979', None, '205', None, '2630', None, '285', None, '889', None, '266', None, '8600000US78756', 'ZCTA5 78756', '8600000US78756'], ['1706', None, '122', None, '2223', None, '104', None, '779', None, '69', None, '8600000US78757', 'ZCTA5 78757', '8600000US78757'], ['1151', None, '79', None, '1446', None, '37', None, '567', None, '28', None, '8600000US78758', 'ZCTA5 78758', '8600000US78758'], ['1736', None, '88', None, '2472', None, '82', None, '887', None, '56', None, '8600000US78759', 'ZCTA5 78759', '8600000US78759'], ['664', None, '68', None, '1296', None, '164', None, '468', None, '54', None, '8600000US78942', 'ZCTA5 78942', '8600000US78942'], ['605', None, '81', None, '1427', None, '208', None, '544', None, '43', None, '8600000US78946', 'ZCTA5 78946', '8600000US78946'], ['759', None, '161', None, '1457', None, '227', None, '440', None, '48', None, '8600000US78947', 'ZCTA5 78947', '8600000US78947'], ['505', None, '91', None, '1635', None, '111', None, '487', None, '64', None, '8600000US78948', 'ZCTA5 78948', '8600000US78948'], ['929', None, '197', None, '1113', None, '407', None, '374', None, '130', None, '8600000US78953', 'ZCTA5 78953', '8600000US78953']]\n"
     ]
    }
   ],
   "source": [
    "mmc_2018_url = \"https://api.census.gov/data/2018/acs/acs5?get=group(B25088)&ucgid=\" + geocodes2\n",
    "r_mmc_2018 = requests.get(mmc_2018_url).json()\n",
    "\n",
    "print(r_mmc_2018)"
   ]
  },
  {
   "cell_type": "code",
   "execution_count": 36,
   "metadata": {},
   "outputs": [
    {
     "data": {
      "text/plain": [
       "0              GEO_ID\n",
       "1      8600000US76501\n",
       "2      8600000US76502\n",
       "3      8600000US76504\n",
       "4      8600000US76511\n",
       "            ...      \n",
       "161    8600000US78942\n",
       "162    8600000US78946\n",
       "163    8600000US78947\n",
       "164    8600000US78948\n",
       "165    8600000US78953\n",
       "Length: 166, dtype: object"
      ]
     },
     "execution_count": 36,
     "metadata": {},
     "output_type": "execute_result"
    }
   ],
   "source": [
    "r_mmc_2018_zip = pd.Series()\n",
    "\n",
    "i = 1\n",
    "for i in range(166):\n",
    "    data = r_mmc_2018[i][12]\n",
    "    r_mmc_2018_zip[i] = data\n",
    "    \n",
    "\n",
    "\n",
    "r_mmc_2018_zip"
   ]
  },
  {
   "cell_type": "code",
   "execution_count": 37,
   "metadata": {},
   "outputs": [
    {
     "data": {
      "text/plain": [
       "0      B25088_001E\n",
       "1              754\n",
       "2             1122\n",
       "3              689\n",
       "4              537\n",
       "          ...     \n",
       "161            664\n",
       "162            605\n",
       "163            759\n",
       "164            505\n",
       "165            929\n",
       "Length: 166, dtype: object"
      ]
     },
     "execution_count": 37,
     "metadata": {},
     "output_type": "execute_result"
    }
   ],
   "source": [
    "r_mmc_2018_total = pd.Series()\n",
    "\n",
    "i = 1\n",
    "for i in range(166):\n",
    "    data = r_mmc_2018[i][0]\n",
    "    r_mmc_2018_total[i] = data\n",
    "    \n",
    "\n",
    "\n",
    "r_mmc_2018_total"
   ]
  },
  {
   "cell_type": "code",
   "execution_count": 38,
   "metadata": {},
   "outputs": [
    {
     "data": {
      "text/plain": [
       "0      B25088_002E\n",
       "1             1093\n",
       "2             1404\n",
       "3             1076\n",
       "4             1178\n",
       "          ...     \n",
       "161           1296\n",
       "162           1427\n",
       "163           1457\n",
       "164           1635\n",
       "165           1113\n",
       "Length: 166, dtype: object"
      ]
     },
     "execution_count": 38,
     "metadata": {},
     "output_type": "execute_result"
    }
   ],
   "source": [
    "r_mmc_2018_wMort = pd.Series()\n",
    "\n",
    "i = 1\n",
    "for i in range(166):\n",
    "    data = r_mmc_2018[i][4]\n",
    "    r_mmc_2018_wMort[i] = data\n",
    "    \n",
    "\n",
    "\n",
    "r_mmc_2018_wMort"
   ]
  },
  {
   "cell_type": "code",
   "execution_count": 39,
   "metadata": {},
   "outputs": [
    {
     "data": {
      "text/plain": [
       "0      B25088_003E\n",
       "1              481\n",
       "2              556\n",
       "3              410\n",
       "4              337\n",
       "          ...     \n",
       "161            468\n",
       "162            544\n",
       "163            440\n",
       "164            487\n",
       "165            374\n",
       "Length: 166, dtype: object"
      ]
     },
     "execution_count": 39,
     "metadata": {},
     "output_type": "execute_result"
    }
   ],
   "source": [
    "r_mmc_2018_woMort = pd.Series()\n",
    "\n",
    "i = 1\n",
    "for i in range(166):\n",
    "    data = r_mmc_2018[i][8]\n",
    "    r_mmc_2018_woMort[i] = data\n",
    "    \n",
    "\n",
    "\n",
    "r_mmc_2018_woMort"
   ]
  },
  {
   "cell_type": "code",
   "execution_count": 40,
   "metadata": {},
   "outputs": [
    {
     "data": {
      "text/html": [
       "<div>\n",
       "<style scoped>\n",
       "    .dataframe tbody tr th:only-of-type {\n",
       "        vertical-align: middle;\n",
       "    }\n",
       "\n",
       "    .dataframe tbody tr th {\n",
       "        vertical-align: top;\n",
       "    }\n",
       "\n",
       "    .dataframe thead th {\n",
       "        text-align: right;\n",
       "    }\n",
       "</style>\n",
       "<table border=\"1\" class=\"dataframe\">\n",
       "  <thead>\n",
       "    <tr style=\"text-align: right;\">\n",
       "      <th></th>\n",
       "      <th>Zip Code</th>\n",
       "      <th>2018 Total</th>\n",
       "      <th>2018 With Mortgage</th>\n",
       "      <th>2018 Without Mortgage</th>\n",
       "    </tr>\n",
       "  </thead>\n",
       "  <tbody>\n",
       "    <tr>\n",
       "      <th>1</th>\n",
       "      <td>76501</td>\n",
       "      <td>754</td>\n",
       "      <td>1093</td>\n",
       "      <td>481</td>\n",
       "    </tr>\n",
       "    <tr>\n",
       "      <th>2</th>\n",
       "      <td>76502</td>\n",
       "      <td>1122</td>\n",
       "      <td>1404</td>\n",
       "      <td>556</td>\n",
       "    </tr>\n",
       "    <tr>\n",
       "      <th>3</th>\n",
       "      <td>76504</td>\n",
       "      <td>689</td>\n",
       "      <td>1076</td>\n",
       "      <td>410</td>\n",
       "    </tr>\n",
       "    <tr>\n",
       "      <th>4</th>\n",
       "      <td>76511</td>\n",
       "      <td>537</td>\n",
       "      <td>1178</td>\n",
       "      <td>337</td>\n",
       "    </tr>\n",
       "    <tr>\n",
       "      <th>5</th>\n",
       "      <td>76513</td>\n",
       "      <td>1023</td>\n",
       "      <td>1483</td>\n",
       "      <td>547</td>\n",
       "    </tr>\n",
       "  </tbody>\n",
       "</table>\n",
       "</div>"
      ],
      "text/plain": [
       "  Zip Code 2018 Total 2018 With Mortgage 2018 Without Mortgage\n",
       "1    76501        754               1093                   481\n",
       "2    76502       1122               1404                   556\n",
       "3    76504        689               1076                   410\n",
       "4    76511        537               1178                   337\n",
       "5    76513       1023               1483                   547"
      ]
     },
     "execution_count": 40,
     "metadata": {},
     "output_type": "execute_result"
    }
   ],
   "source": [
    "med_month_cost_2018 = pd.DataFrame({\"Zip Code\" : r_mmc_2018_zip,\n",
    "                                    \"2018 Total\" : r_mmc_2018_total,\n",
    "                                    \"2018 With Mortgage\" : r_mmc_2018_wMort,\n",
    "                                    \"2018 Without Mortgage\":r_mmc_2018_woMort})\n",
    "\n",
    "med_month_cost_2018 = med_month_cost_2018.drop(index=0)\n",
    "med_month_cost_2018['Zip Code'] = med_month_cost_2018[\"Zip Code\"].str.replace('8600000US', '')\n",
    "med_month_cost_2018.head()"
   ]
  },
  {
   "cell_type": "code",
   "execution_count": 41,
   "metadata": {},
   "outputs": [],
   "source": [
    "med_month_cost_2022.to_csv(\"2022_Monthly_Median_Cost.csv\")\n",
    "med_month_cost_2021.to_csv(\"2021_Monthly_Median_Cost.csv\")\n",
    "med_month_cost_2020.to_csv(\"2020_Monthly_Median_Cost.csv\")\n",
    "med_month_cost_2019.to_csv(\"2019_Monthly_Median_Cost.csv\")\n",
    "med_month_cost_2018.to_csv(\"2018_Monthly_Median_Cost.csv\")"
   ]
  }
 ],
 "metadata": {
  "kernelspec": {
   "display_name": "dev",
   "language": "python",
   "name": "python3"
  },
  "language_info": {
   "codemirror_mode": {
    "name": "ipython",
    "version": 3
   },
   "file_extension": ".py",
   "mimetype": "text/x-python",
   "name": "python",
   "nbconvert_exporter": "python",
   "pygments_lexer": "ipython3",
   "version": "3.10.14"
  }
 },
 "nbformat": 4,
 "nbformat_minor": 2
}
