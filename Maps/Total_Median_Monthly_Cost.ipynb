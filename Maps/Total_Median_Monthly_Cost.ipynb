{
 "cells": [
  {
   "cell_type": "code",
   "execution_count": null,
   "metadata": {},
   "outputs": [],
   "source": [
    "#import necessary libraries\n",
    "import pandas as pd\n",
    "import geopandas as gpd\n",
    "import numpy as np\n",
    "\n",
    "import json\n",
    "\n",
    "\n",
    "from datetime import date\n",
    "import os\n",
    "\n",
    "import folium\n",
    "from folium.features import GeoJsonPopup, GeoJsonTooltip"
   ]
  },
  {
   "cell_type": "code",
   "execution_count": null,
   "metadata": {},
   "outputs": [],
   "source": [
    "#load the needed data for 2018\n",
    "data_2018_df = pd.read_csv(\"../Tables With Nan/2018_tableN.csv\")\n",
    "data_2018_df.head()"
   ]
  },
  {
   "cell_type": "code",
   "execution_count": null,
   "metadata": {},
   "outputs": [],
   "source": [
    "#load the needed data for 2019\n",
    "data_2019_df = pd.read_csv(\"../Tables With Nan/2019_tableN.csv\")\n",
    "data_2019_df.head()"
   ]
  },
  {
   "cell_type": "code",
   "execution_count": null,
   "metadata": {},
   "outputs": [],
   "source": [
    "#load the needed data for 2020\n",
    "data_2020_df = pd.read_csv(\"../Tables With Nan/2020_tableN.csv\")\n",
    "data_2020_df.head()"
   ]
  },
  {
   "cell_type": "code",
   "execution_count": null,
   "metadata": {},
   "outputs": [],
   "source": [
    "#load the needed data for 2021\n",
    "data_2021_df = pd.read_csv(\"../Tables With Nan/2021_tableN.csv\")\n",
    "data_2021_df.head()"
   ]
  },
  {
   "cell_type": "code",
   "execution_count": null,
   "metadata": {},
   "outputs": [],
   "source": [
    "#load the needed data for 2022\n",
    "data_2022_df = pd.read_csv(\"../Tables With Nan/2022_tableN.csv\")\n",
    "data_2022_df.head()"
   ]
  },
  {
   "cell_type": "code",
   "execution_count": null,
   "metadata": {},
   "outputs": [],
   "source": [
    "#Merge 2018 with 2019\n",
    "data_2018_19 = pd.merge(data_2018_df, data_2019_df, on=\"Zip Code\", suffixes=(' 2018', ' 2019'))\n",
    "data_2018_19.head()"
   ]
  },
  {
   "cell_type": "code",
   "execution_count": null,
   "metadata": {},
   "outputs": [],
   "source": [
    "#Add 2020 data\n",
    "data_2018_2020 = pd.merge(data_2018_19, data_2020_df, on=\"Zip Code\")\n",
    "data_2018_2020.head()"
   ]
  },
  {
   "cell_type": "code",
   "execution_count": null,
   "metadata": {},
   "outputs": [],
   "source": [
    "#Add 2021 data\n",
    "data_2018_2021 = pd.merge(data_2018_2020, data_2021_df, on=\"Zip Code\", suffixes=(' 2020', ' 2021'))\n",
    "data_2018_2021.head()"
   ]
  },
  {
   "cell_type": "code",
   "execution_count": null,
   "metadata": {},
   "outputs": [],
   "source": [
    "#Add 2022 data\n",
    "all_years_df = pd.merge(data_2018_2021, data_2022_df, on=\"Zip Code\")\n",
    "all_years_df.head()"
   ]
  },
  {
   "cell_type": "code",
   "execution_count": null,
   "metadata": {},
   "outputs": [],
   "source": [
    "#Open and read GeoJSON file and convert to JSON\n",
    "with open ('../Maps/tx_texas_zip_codes_geo.min.json', 'r') as jsonFile:\n",
    "    txmapdata = json.load(jsonFile)\n",
    "\n",
    "print(txmapdata[\"features\"][1][\"properties\"][\"ZCTA5CE10\"])"
   ]
  },
  {
   "cell_type": "code",
   "execution_count": null,
   "metadata": {},
   "outputs": [],
   "source": [
    "#Convert to geopandas\n",
    "tx_gdf = gpd.GeoDataFrame.from_features(txmapdata[\"features\"])\n",
    "tx_gdf.head()"
   ]
  },
  {
   "cell_type": "code",
   "execution_count": null,
   "metadata": {},
   "outputs": [],
   "source": [
    "#Rename ZCTA5CE10 column to Zip Code\n",
    "tx_gdf = tx_gdf.rename(columns={\"ZCTA5CE10\":\"Zip Code\"})\n",
    "tx_gdf.info()"
   ]
  },
  {
   "cell_type": "code",
   "execution_count": null,
   "metadata": {},
   "outputs": [],
   "source": [
    "#Convert the Zip Code column to an int64\n",
    "tx_gdf[\"Zip Code\"] = tx_gdf[\"Zip Code\"].str.strip()\n",
    "tx_gdf[\"Zip Code\"] = tx_gdf[\"Zip Code\"].astype('int64')\n",
    "tx_gdf.info()"
   ]
  },
  {
   "cell_type": "code",
   "execution_count": null,
   "metadata": {},
   "outputs": [],
   "source": [
    "#Combine data for 2018 with inner join to only include the zip codes we are interested in\n",
    "merge_2018_data = pd.merge(tx_gdf, data_2018_df, on=\"Zip Code\", how=\"inner\")\n",
    "merge_2018_data.head()"
   ]
  },
  {
   "cell_type": "code",
   "execution_count": null,
   "metadata": {},
   "outputs": [],
   "source": [
    "#Combine data for 2019 with inner join to only include the zip codes we are interested in\n",
    "merge_2019_data = pd.merge(tx_gdf, data_2019_df, on=\"Zip Code\", how=\"inner\")\n",
    "merge_2019_data.head()"
   ]
  },
  {
   "cell_type": "code",
   "execution_count": null,
   "metadata": {},
   "outputs": [],
   "source": [
    "#Combine data for 2020 with inner join to only include the zip codes we are interested in\n",
    "merge_2020_data = pd.merge(tx_gdf, data_2020_df, on=\"Zip Code\", how=\"inner\")\n",
    "merge_2020_data.head()"
   ]
  },
  {
   "cell_type": "code",
   "execution_count": null,
   "metadata": {},
   "outputs": [],
   "source": [
    "#Combine data for 2021 with inner join to only include the zip codes we are interested in\n",
    "merge_2021_data = pd.merge(tx_gdf, data_2021_df, on=\"Zip Code\", how=\"inner\")\n",
    "merge_2021_data.head()"
   ]
  },
  {
   "cell_type": "code",
   "execution_count": null,
   "metadata": {},
   "outputs": [],
   "source": [
    "#Combine data for 2022 with inner join to only include the zip codes we are interested in\n",
    "merge_2022_data = pd.merge(tx_gdf, data_2022_df, on=\"Zip Code\", how=\"inner\")\n",
    "merge_2022_data.head()"
   ]
  },
  {
   "cell_type": "code",
   "execution_count": null,
   "metadata": {},
   "outputs": [],
   "source": [
    "merge_all = pd.merge(tx_gdf, all_years_df, on=\"Zip Code\", how=\"inner\")\n",
    "merge_all.head()"
   ]
  },
  {
   "cell_type": "code",
   "execution_count": null,
   "metadata": {},
   "outputs": [],
   "source": [
    "#Set the crs for all the merged data\n",
    "merge_2018_data.crs = \"EPSG:4326\"\n",
    "merge_2019_data.crs = \"EPSG:4326\"\n",
    "merge_2020_data.crs = \"EPSG:4326\"\n",
    "merge_2021_data.crs = \"EPSG:4326\"\n",
    "merge_2022_data.crs = \"EPSG:4326\"\n",
    "merge_all.crs = \"EPSG:4326\""
   ]
  },
  {
   "cell_type": "code",
   "execution_count": null,
   "metadata": {},
   "outputs": [],
   "source": [
    "# Create Total Median Monthly Cost for 2018-2022\n",
    "total_med_mo_cost_map = folium.Map(location=[30.3077, -97.8343], zoom_start=8)\n",
    "#2018\n",
    "folium.Choropleth(\n",
    "    geo_data=merge_2018_data,\n",
    "    name=\"2018\",\n",
    "    data=merge_2018_data,\n",
    "    columns=[\"Zip Code\", \"Total Median Monthly Cost\"],\n",
    "    nan_fill_color=\"black\",\n",
    "    nan_fill_opacity=0.7,\n",
    "    key_on=\"feature.properties.Zip Code\",\n",
    "    fill_color=\"YlOrRd\",\n",
    "    #bins=[9999, 249859, 489719, 729580, 969440, 1209300],\n",
    "    fill_opacity=0.8,\n",
    "    line_opacity=0.2,\n",
    "    highlight=True,\n",
    "    legend_name=\"2018 Total Median Monthly Cost\").add_to(total_med_mo_cost_map)\n",
    "#2019\n",
    "folium.Choropleth(\n",
    "    geo_data=merge_2019_data,\n",
    "    name=\"2019\",\n",
    "    data=merge_2019_data,\n",
    "    columns=[\"Zip Code\", \"Total Median Monthly Cost\"],\n",
    "    nan_fill_color=\"black\",\n",
    "    nan_fill_opacity=0.7,\n",
    "    key_on=\"feature.properties.Zip Code\",\n",
    "    fill_color=\"YlOrRd\",\n",
    "    #bins=[9999, 249859, 489719, 729580, 969440, 1209300],\n",
    "    fill_opacity=0.8,\n",
    "    line_opacity=0.2,\n",
    "    highlight=True,\n",
    "    show=False,\n",
    "    legend_name=\"2019 Total Median Monthly Cost\").add_to(total_med_mo_cost_map)\n",
    "#2020\n",
    "folium.Choropleth(\n",
    "    geo_data=merge_2020_data,\n",
    "    name=\"2020\",\n",
    "    data=merge_2020_data,\n",
    "    columns=[\"Zip Code\", \"Total Median Monthly Cost\"],\n",
    "    nan_fill_color=\"black\",\n",
    "    nan_fill_opacity=0.7,\n",
    "    key_on=\"feature.properties.Zip Code\",\n",
    "    fill_color=\"YlOrRd\",\n",
    "    #bins=[9999, 249859, 489719, 729580, 969440, 1209300],\n",
    "    fill_opacity=0.8,\n",
    "    line_opacity=0.2,\n",
    "    highlight=True,\n",
    "    show=False,\n",
    "    legend_name=\"2020 Total Median Monthly Cost\").add_to(total_med_mo_cost_map)\n",
    "#2021\n",
    "folium.Choropleth(\n",
    "    geo_data=merge_2021_data,\n",
    "    name=\"2021\",\n",
    "    data=merge_2021_data,\n",
    "    columns=[\"Zip Code\", \"Total Median Monthly Cost\"],\n",
    "    nan_fill_color=\"black\",\n",
    "    nan_fill_opacity=0.7,\n",
    "    key_on=\"feature.properties.Zip Code\",\n",
    "    fill_color=\"YlOrRd\",\n",
    "    #bins=[9999, 249859, 489719, 729580, 969440, 1209300],\n",
    "    fill_opacity=0.8,\n",
    "    line_opacity=0.2,\n",
    "    highlight=True,\n",
    "    show=False,\n",
    "    legend_name=\"2021 Total Median Monthly Cost\").add_to(total_med_mo_cost_map)\n",
    "#2022\n",
    "folium.Choropleth(\n",
    "    geo_data=merge_2022_data,\n",
    "    name=\"2022\",\n",
    "    data=merge_2022_data,\n",
    "    columns=[\"Zip Code\", \"Total Median Monthly Cost\"],\n",
    "    nan_fill_color=\"black\",\n",
    "    nan_fill_opacity=0.7,\n",
    "    key_on=\"feature.properties.Zip Code\",\n",
    "    fill_color=\"YlOrRd\",\n",
    "    #bins=[9999, 249859, 489719, 729580, 969440, 1209300],\n",
    "    fill_opacity=0.8,\n",
    "    line_opacity=0.2,\n",
    "    highlight=True,\n",
    "    show=False,\n",
    "    legend_name=\"2022 Total Median Monthly Cost\").add_to(total_med_mo_cost_map)\n",
    "\n",
    "style_function = lambda x: {'fillColor': '#ffffff', \n",
    "                            'color':'#000000', \n",
    "                            'fillOpacity': 0.1, \n",
    "                            'weight': 0.1}\n",
    "highlight_function = lambda x: {'fillColor': '#000000', \n",
    "                                'color':'#000000', \n",
    "                                'fillOpacity': 0.2, \n",
    "                                'weight': 0.1}\n",
    "\n",
    "for i in range(len(merge_all)):\n",
    "    row = merge_all.loc[[i]]\n",
    "    if row.geometry.values == \"\":\n",
    "        feature = folium.features.GeoJson(\n",
    "        row,\n",
    "        style_function=style_function,\n",
    "        control = False,\n",
    "        highlight_function=highlight_function,\n",
    "        tooltip = folium.features.GeoJsonTooltip(\n",
    "            fields=[\n",
    "                \"Zip Code\",\n",
    "                \"Total Median Monthly Cost 2018\",\n",
    "                \"Total Median Monthly Cost 2019\",\n",
    "                \"Total Median Monthly Cost 2020\",\n",
    "                \"Total Median Monthly Cost 2021\",\n",
    "                \"Total Median Monthly Cost\"\n",
    "            ],\n",
    "            aliases=[\n",
    "                \"Zip Code\",\n",
    "                \"2018 Total Median Monthly Cost\",\n",
    "                \"2019 Total Median Monthly Cost\",\n",
    "                \"2020 Total Median Monthly Cost\",\n",
    "                \"2021 Total Median Monthly Cost\",\n",
    "                \"2022 Total Median Monthly Cost\"\n",
    "            ],\n",
    "            style=(\"background-color: white; color: #333333; font-family: arial; font-size: 12px; padding: 10px;\")\n",
    "            )\n",
    "        )\n",
    "        total_med_mo_cost_map.add_child(feature)\n",
    "        total_med_mo_cost_map.keep_in_front(feature)\n",
    "\n",
    "    else:\n",
    "        feature = folium.features.GeoJson(\n",
    "        row,\n",
    "        style_function=style_function,\n",
    "        control = False,\n",
    "        highlight_function=highlight_function,\n",
    "        tooltip = folium.features.GeoJsonTooltip(\n",
    "            fields=[\n",
    "                \"Zip Code\",\n",
    "                \"Median Monthly Cost 2018\",\n",
    "                \"Median Monthly Cost 2019\",\n",
    "                \"Median Monthly Cost 2020\",\n",
    "                \"Median Monthly Cost 2021\",\n",
    "                \"Median Monthly Cost\"\n",
    "            ],\n",
    "            aliases=[\n",
    "                \"Zip Code\",\n",
    "                \"2018 Median Monthly Cost\",\n",
    "                \"2019 Median Monthly Cost\",\n",
    "                \"2020 Median Monthly Cost\",\n",
    "                \"2021 Median Monthly Cost\",\n",
    "                \"2022 Median Monthly Cost\"\n",
    "            ],\n",
    "            style=(\"background-color: white; color: #333333; font-family: arial; font-size: 12px; padding: 10px;\")\n",
    "            )\n",
    "        )\n",
    "        total_med_mo_cost_map.add_child(feature)\n",
    "        total_med_mo_cost_map.keep_in_front(feature)\n",
    "\n",
    "folium.LayerControl().add_to(total_med_mo_cost_map)\n",
    "total_med_mo_cost_map"
   ]
  },
  {
   "cell_type": "code",
   "execution_count": null,
   "metadata": {},
   "outputs": [],
   "source": [
    "#Save map as html\n",
    "total_med_mo_cost_map.save(\"total_med_mo_cost_map_2018-2022.html\")"
   ]
  }
 ],
 "metadata": {
  "kernelspec": {
   "display_name": "base",
   "language": "python",
   "name": "python3"
  },
  "language_info": {
   "codemirror_mode": {
    "name": "ipython",
    "version": 3
   },
   "file_extension": ".py",
   "mimetype": "text/x-python",
   "name": "python",
   "nbconvert_exporter": "python",
   "pygments_lexer": "ipython3",
   "version": "3.11.7"
  }
 },
 "nbformat": 4,
 "nbformat_minor": 2
}
